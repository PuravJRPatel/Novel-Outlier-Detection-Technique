{
 "cells": [
  {
   "cell_type": "code",
   "execution_count": 1,
   "metadata": {},
   "outputs": [],
   "source": [
    "import pandas as pd\n",
    "import numpy as np\n",
    "import matplotlib.pyplot as plt\n",
    "import seaborn as sns\n",
    "import warnings\n",
    "warnings.filterwarnings('ignore')\n",
    "from pyod.models.ecod import ECOD\n",
    "from pyod.models.lunar import LUNAR\n",
    "from sklearn.model_selection import train_test_split\n",
    "from sklearn.metrics import accuracy_score, confusion_matrix, classification_report\n",
    "from sklearn.linear_model import LogisticRegression\n",
    "from sklearn.preprocessing import StandardScaler\n",
    "from sklearn.metrics import roc_curve, auc\n",
    "from sklearn.metrics import roc_auc_score\n"
   ]
  },
  {
   "cell_type": "code",
   "execution_count": 2,
   "metadata": {},
   "outputs": [],
   "source": [
    "cancer = pd.read_csv(r\"C:\\Users\\purav\\OneDrive\\Desktop\\Comparative Evaluation of Anomaly Detection Algorithms\\Comparative-Evaluation-of-Anomaly-Detection-Algorithms\\Datasets\\breast-cancer-unsupervised-ad.csv\",header=None)"
   ]
  },
  {
   "cell_type": "code",
   "execution_count": 3,
   "metadata": {},
   "outputs": [
    {
     "data": {
      "text/html": [
       "<div>\n",
       "<style scoped>\n",
       "    .dataframe tbody tr th:only-of-type {\n",
       "        vertical-align: middle;\n",
       "    }\n",
       "\n",
       "    .dataframe tbody tr th {\n",
       "        vertical-align: top;\n",
       "    }\n",
       "\n",
       "    .dataframe thead th {\n",
       "        text-align: right;\n",
       "    }\n",
       "</style>\n",
       "<table border=\"1\" class=\"dataframe\">\n",
       "  <thead>\n",
       "    <tr style=\"text-align: right;\">\n",
       "      <th></th>\n",
       "      <th>0</th>\n",
       "      <th>1</th>\n",
       "      <th>2</th>\n",
       "      <th>3</th>\n",
       "      <th>4</th>\n",
       "      <th>5</th>\n",
       "      <th>6</th>\n",
       "      <th>7</th>\n",
       "      <th>8</th>\n",
       "      <th>9</th>\n",
       "      <th>...</th>\n",
       "      <th>21</th>\n",
       "      <th>22</th>\n",
       "      <th>23</th>\n",
       "      <th>24</th>\n",
       "      <th>25</th>\n",
       "      <th>26</th>\n",
       "      <th>27</th>\n",
       "      <th>28</th>\n",
       "      <th>29</th>\n",
       "      <th>30</th>\n",
       "    </tr>\n",
       "  </thead>\n",
       "  <tbody>\n",
       "    <tr>\n",
       "      <th>0</th>\n",
       "      <td>17.99</td>\n",
       "      <td>10.38</td>\n",
       "      <td>122.80</td>\n",
       "      <td>1001.0</td>\n",
       "      <td>0.11840</td>\n",
       "      <td>0.27760</td>\n",
       "      <td>0.30010</td>\n",
       "      <td>0.14710</td>\n",
       "      <td>0.2419</td>\n",
       "      <td>0.07871</td>\n",
       "      <td>...</td>\n",
       "      <td>17.33</td>\n",
       "      <td>184.60</td>\n",
       "      <td>2019.0</td>\n",
       "      <td>0.16220</td>\n",
       "      <td>0.66560</td>\n",
       "      <td>0.7119</td>\n",
       "      <td>0.26540</td>\n",
       "      <td>0.4601</td>\n",
       "      <td>0.11890</td>\n",
       "      <td>o</td>\n",
       "    </tr>\n",
       "    <tr>\n",
       "      <th>1</th>\n",
       "      <td>20.57</td>\n",
       "      <td>17.77</td>\n",
       "      <td>132.90</td>\n",
       "      <td>1326.0</td>\n",
       "      <td>0.08474</td>\n",
       "      <td>0.07864</td>\n",
       "      <td>0.08690</td>\n",
       "      <td>0.07017</td>\n",
       "      <td>0.1812</td>\n",
       "      <td>0.05667</td>\n",
       "      <td>...</td>\n",
       "      <td>23.41</td>\n",
       "      <td>158.80</td>\n",
       "      <td>1956.0</td>\n",
       "      <td>0.12380</td>\n",
       "      <td>0.18660</td>\n",
       "      <td>0.2416</td>\n",
       "      <td>0.18600</td>\n",
       "      <td>0.2750</td>\n",
       "      <td>0.08902</td>\n",
       "      <td>o</td>\n",
       "    </tr>\n",
       "    <tr>\n",
       "      <th>2</th>\n",
       "      <td>19.69</td>\n",
       "      <td>21.25</td>\n",
       "      <td>130.00</td>\n",
       "      <td>1203.0</td>\n",
       "      <td>0.10960</td>\n",
       "      <td>0.15990</td>\n",
       "      <td>0.19740</td>\n",
       "      <td>0.12790</td>\n",
       "      <td>0.2069</td>\n",
       "      <td>0.05999</td>\n",
       "      <td>...</td>\n",
       "      <td>25.53</td>\n",
       "      <td>152.50</td>\n",
       "      <td>1709.0</td>\n",
       "      <td>0.14440</td>\n",
       "      <td>0.42450</td>\n",
       "      <td>0.4504</td>\n",
       "      <td>0.24300</td>\n",
       "      <td>0.3613</td>\n",
       "      <td>0.08758</td>\n",
       "      <td>o</td>\n",
       "    </tr>\n",
       "    <tr>\n",
       "      <th>3</th>\n",
       "      <td>11.42</td>\n",
       "      <td>20.38</td>\n",
       "      <td>77.58</td>\n",
       "      <td>386.1</td>\n",
       "      <td>0.14250</td>\n",
       "      <td>0.28390</td>\n",
       "      <td>0.24140</td>\n",
       "      <td>0.10520</td>\n",
       "      <td>0.2597</td>\n",
       "      <td>0.09744</td>\n",
       "      <td>...</td>\n",
       "      <td>26.50</td>\n",
       "      <td>98.87</td>\n",
       "      <td>567.7</td>\n",
       "      <td>0.20980</td>\n",
       "      <td>0.86630</td>\n",
       "      <td>0.6869</td>\n",
       "      <td>0.25750</td>\n",
       "      <td>0.6638</td>\n",
       "      <td>0.17300</td>\n",
       "      <td>o</td>\n",
       "    </tr>\n",
       "    <tr>\n",
       "      <th>4</th>\n",
       "      <td>20.29</td>\n",
       "      <td>14.34</td>\n",
       "      <td>135.10</td>\n",
       "      <td>1297.0</td>\n",
       "      <td>0.10030</td>\n",
       "      <td>0.13280</td>\n",
       "      <td>0.19800</td>\n",
       "      <td>0.10430</td>\n",
       "      <td>0.1809</td>\n",
       "      <td>0.05883</td>\n",
       "      <td>...</td>\n",
       "      <td>16.67</td>\n",
       "      <td>152.20</td>\n",
       "      <td>1575.0</td>\n",
       "      <td>0.13740</td>\n",
       "      <td>0.20500</td>\n",
       "      <td>0.4000</td>\n",
       "      <td>0.16250</td>\n",
       "      <td>0.2364</td>\n",
       "      <td>0.07678</td>\n",
       "      <td>o</td>\n",
       "    </tr>\n",
       "    <tr>\n",
       "      <th>...</th>\n",
       "      <td>...</td>\n",
       "      <td>...</td>\n",
       "      <td>...</td>\n",
       "      <td>...</td>\n",
       "      <td>...</td>\n",
       "      <td>...</td>\n",
       "      <td>...</td>\n",
       "      <td>...</td>\n",
       "      <td>...</td>\n",
       "      <td>...</td>\n",
       "      <td>...</td>\n",
       "      <td>...</td>\n",
       "      <td>...</td>\n",
       "      <td>...</td>\n",
       "      <td>...</td>\n",
       "      <td>...</td>\n",
       "      <td>...</td>\n",
       "      <td>...</td>\n",
       "      <td>...</td>\n",
       "      <td>...</td>\n",
       "      <td>...</td>\n",
       "    </tr>\n",
       "    <tr>\n",
       "      <th>362</th>\n",
       "      <td>14.59</td>\n",
       "      <td>22.68</td>\n",
       "      <td>96.39</td>\n",
       "      <td>657.1</td>\n",
       "      <td>0.08473</td>\n",
       "      <td>0.13300</td>\n",
       "      <td>0.10290</td>\n",
       "      <td>0.03736</td>\n",
       "      <td>0.1454</td>\n",
       "      <td>0.06147</td>\n",
       "      <td>...</td>\n",
       "      <td>27.27</td>\n",
       "      <td>105.90</td>\n",
       "      <td>733.5</td>\n",
       "      <td>0.10260</td>\n",
       "      <td>0.31710</td>\n",
       "      <td>0.3662</td>\n",
       "      <td>0.11050</td>\n",
       "      <td>0.2258</td>\n",
       "      <td>0.08004</td>\n",
       "      <td>n</td>\n",
       "    </tr>\n",
       "    <tr>\n",
       "      <th>363</th>\n",
       "      <td>11.51</td>\n",
       "      <td>23.93</td>\n",
       "      <td>74.52</td>\n",
       "      <td>403.5</td>\n",
       "      <td>0.09261</td>\n",
       "      <td>0.10210</td>\n",
       "      <td>0.11120</td>\n",
       "      <td>0.04105</td>\n",
       "      <td>0.1388</td>\n",
       "      <td>0.06570</td>\n",
       "      <td>...</td>\n",
       "      <td>37.16</td>\n",
       "      <td>82.28</td>\n",
       "      <td>474.2</td>\n",
       "      <td>0.12980</td>\n",
       "      <td>0.25170</td>\n",
       "      <td>0.3630</td>\n",
       "      <td>0.09653</td>\n",
       "      <td>0.2112</td>\n",
       "      <td>0.08732</td>\n",
       "      <td>n</td>\n",
       "    </tr>\n",
       "    <tr>\n",
       "      <th>364</th>\n",
       "      <td>14.05</td>\n",
       "      <td>27.15</td>\n",
       "      <td>91.38</td>\n",
       "      <td>600.4</td>\n",
       "      <td>0.09929</td>\n",
       "      <td>0.11260</td>\n",
       "      <td>0.04462</td>\n",
       "      <td>0.04304</td>\n",
       "      <td>0.1537</td>\n",
       "      <td>0.06171</td>\n",
       "      <td>...</td>\n",
       "      <td>33.17</td>\n",
       "      <td>100.20</td>\n",
       "      <td>706.7</td>\n",
       "      <td>0.12410</td>\n",
       "      <td>0.22640</td>\n",
       "      <td>0.1326</td>\n",
       "      <td>0.10480</td>\n",
       "      <td>0.2250</td>\n",
       "      <td>0.08321</td>\n",
       "      <td>n</td>\n",
       "    </tr>\n",
       "    <tr>\n",
       "      <th>365</th>\n",
       "      <td>11.20</td>\n",
       "      <td>29.37</td>\n",
       "      <td>70.67</td>\n",
       "      <td>386.0</td>\n",
       "      <td>0.07449</td>\n",
       "      <td>0.03558</td>\n",
       "      <td>0.00000</td>\n",
       "      <td>0.00000</td>\n",
       "      <td>0.1060</td>\n",
       "      <td>0.05502</td>\n",
       "      <td>...</td>\n",
       "      <td>38.30</td>\n",
       "      <td>75.19</td>\n",
       "      <td>439.6</td>\n",
       "      <td>0.09267</td>\n",
       "      <td>0.05494</td>\n",
       "      <td>0.0000</td>\n",
       "      <td>0.00000</td>\n",
       "      <td>0.1566</td>\n",
       "      <td>0.05905</td>\n",
       "      <td>n</td>\n",
       "    </tr>\n",
       "    <tr>\n",
       "      <th>366</th>\n",
       "      <td>7.76</td>\n",
       "      <td>24.54</td>\n",
       "      <td>47.92</td>\n",
       "      <td>181.0</td>\n",
       "      <td>0.05263</td>\n",
       "      <td>0.04362</td>\n",
       "      <td>0.00000</td>\n",
       "      <td>0.00000</td>\n",
       "      <td>0.1587</td>\n",
       "      <td>0.05884</td>\n",
       "      <td>...</td>\n",
       "      <td>30.37</td>\n",
       "      <td>59.16</td>\n",
       "      <td>268.6</td>\n",
       "      <td>0.08996</td>\n",
       "      <td>0.06444</td>\n",
       "      <td>0.0000</td>\n",
       "      <td>0.00000</td>\n",
       "      <td>0.2871</td>\n",
       "      <td>0.07039</td>\n",
       "      <td>n</td>\n",
       "    </tr>\n",
       "  </tbody>\n",
       "</table>\n",
       "<p>367 rows × 31 columns</p>\n",
       "</div>"
      ],
      "text/plain": [
       "        0      1       2       3        4        5        6        7       8   \\\n",
       "0    17.99  10.38  122.80  1001.0  0.11840  0.27760  0.30010  0.14710  0.2419   \n",
       "1    20.57  17.77  132.90  1326.0  0.08474  0.07864  0.08690  0.07017  0.1812   \n",
       "2    19.69  21.25  130.00  1203.0  0.10960  0.15990  0.19740  0.12790  0.2069   \n",
       "3    11.42  20.38   77.58   386.1  0.14250  0.28390  0.24140  0.10520  0.2597   \n",
       "4    20.29  14.34  135.10  1297.0  0.10030  0.13280  0.19800  0.10430  0.1809   \n",
       "..     ...    ...     ...     ...      ...      ...      ...      ...     ...   \n",
       "362  14.59  22.68   96.39   657.1  0.08473  0.13300  0.10290  0.03736  0.1454   \n",
       "363  11.51  23.93   74.52   403.5  0.09261  0.10210  0.11120  0.04105  0.1388   \n",
       "364  14.05  27.15   91.38   600.4  0.09929  0.11260  0.04462  0.04304  0.1537   \n",
       "365  11.20  29.37   70.67   386.0  0.07449  0.03558  0.00000  0.00000  0.1060   \n",
       "366   7.76  24.54   47.92   181.0  0.05263  0.04362  0.00000  0.00000  0.1587   \n",
       "\n",
       "          9   ...     21      22      23       24       25      26       27  \\\n",
       "0    0.07871  ...  17.33  184.60  2019.0  0.16220  0.66560  0.7119  0.26540   \n",
       "1    0.05667  ...  23.41  158.80  1956.0  0.12380  0.18660  0.2416  0.18600   \n",
       "2    0.05999  ...  25.53  152.50  1709.0  0.14440  0.42450  0.4504  0.24300   \n",
       "3    0.09744  ...  26.50   98.87   567.7  0.20980  0.86630  0.6869  0.25750   \n",
       "4    0.05883  ...  16.67  152.20  1575.0  0.13740  0.20500  0.4000  0.16250   \n",
       "..       ...  ...    ...     ...     ...      ...      ...     ...      ...   \n",
       "362  0.06147  ...  27.27  105.90   733.5  0.10260  0.31710  0.3662  0.11050   \n",
       "363  0.06570  ...  37.16   82.28   474.2  0.12980  0.25170  0.3630  0.09653   \n",
       "364  0.06171  ...  33.17  100.20   706.7  0.12410  0.22640  0.1326  0.10480   \n",
       "365  0.05502  ...  38.30   75.19   439.6  0.09267  0.05494  0.0000  0.00000   \n",
       "366  0.05884  ...  30.37   59.16   268.6  0.08996  0.06444  0.0000  0.00000   \n",
       "\n",
       "         28       29  30  \n",
       "0    0.4601  0.11890   o  \n",
       "1    0.2750  0.08902   o  \n",
       "2    0.3613  0.08758   o  \n",
       "3    0.6638  0.17300   o  \n",
       "4    0.2364  0.07678   o  \n",
       "..      ...      ...  ..  \n",
       "362  0.2258  0.08004   n  \n",
       "363  0.2112  0.08732   n  \n",
       "364  0.2250  0.08321   n  \n",
       "365  0.1566  0.05905   n  \n",
       "366  0.2871  0.07039   n  \n",
       "\n",
       "[367 rows x 31 columns]"
      ]
     },
     "execution_count": 3,
     "metadata": {},
     "output_type": "execute_result"
    }
   ],
   "source": [
    "cancer"
   ]
  },
  {
   "cell_type": "code",
   "execution_count": 4,
   "metadata": {},
   "outputs": [],
   "source": [
    "shuffled_df = cancer.sample(frac=1).reset_index(drop=True)\n",
    "shuffled_df\n",
    "\n",
    "\n",
    "df = pd.DataFrame(shuffled_df.iloc[:, :-1].values)\n",
    "from sklearn.preprocessing import StandardScaler\n",
    "\n",
    "ss = StandardScaler()\n",
    "df = pd.DataFrame(ss.fit_transform(df))\n"
   ]
  },
  {
   "cell_type": "code",
   "execution_count": 5,
   "metadata": {},
   "outputs": [
    {
     "data": {
      "text/html": [
       "<div>\n",
       "<style scoped>\n",
       "    .dataframe tbody tr th:only-of-type {\n",
       "        vertical-align: middle;\n",
       "    }\n",
       "\n",
       "    .dataframe tbody tr th {\n",
       "        vertical-align: top;\n",
       "    }\n",
       "\n",
       "    .dataframe thead th {\n",
       "        text-align: right;\n",
       "    }\n",
       "</style>\n",
       "<table border=\"1\" class=\"dataframe\">\n",
       "  <thead>\n",
       "    <tr style=\"text-align: right;\">\n",
       "      <th></th>\n",
       "      <th>30</th>\n",
       "    </tr>\n",
       "  </thead>\n",
       "  <tbody>\n",
       "    <tr>\n",
       "      <th>0</th>\n",
       "      <td>0</td>\n",
       "    </tr>\n",
       "    <tr>\n",
       "      <th>1</th>\n",
       "      <td>0</td>\n",
       "    </tr>\n",
       "    <tr>\n",
       "      <th>2</th>\n",
       "      <td>0</td>\n",
       "    </tr>\n",
       "    <tr>\n",
       "      <th>3</th>\n",
       "      <td>0</td>\n",
       "    </tr>\n",
       "    <tr>\n",
       "      <th>4</th>\n",
       "      <td>0</td>\n",
       "    </tr>\n",
       "    <tr>\n",
       "      <th>...</th>\n",
       "      <td>...</td>\n",
       "    </tr>\n",
       "    <tr>\n",
       "      <th>362</th>\n",
       "      <td>0</td>\n",
       "    </tr>\n",
       "    <tr>\n",
       "      <th>363</th>\n",
       "      <td>0</td>\n",
       "    </tr>\n",
       "    <tr>\n",
       "      <th>364</th>\n",
       "      <td>0</td>\n",
       "    </tr>\n",
       "    <tr>\n",
       "      <th>365</th>\n",
       "      <td>0</td>\n",
       "    </tr>\n",
       "    <tr>\n",
       "      <th>366</th>\n",
       "      <td>0</td>\n",
       "    </tr>\n",
       "  </tbody>\n",
       "</table>\n",
       "<p>367 rows × 1 columns</p>\n",
       "</div>"
      ],
      "text/plain": [
       "     30\n",
       "0     0\n",
       "1     0\n",
       "2     0\n",
       "3     0\n",
       "4     0\n",
       "..   ..\n",
       "362   0\n",
       "363   0\n",
       "364   0\n",
       "365   0\n",
       "366   0\n",
       "\n",
       "[367 rows x 1 columns]"
      ]
     },
     "execution_count": 5,
     "metadata": {},
     "output_type": "execute_result"
    }
   ],
   "source": [
    "y = shuffled_df.iloc[:,-1]\n",
    "y = pd.DataFrame(y.replace({'o':1, 'n':0}))\n",
    "y"
   ]
  },
  {
   "cell_type": "markdown",
   "metadata": {},
   "source": [
    "ECOD"
   ]
  },
  {
   "cell_type": "code",
   "execution_count": 6,
   "metadata": {},
   "outputs": [
    {
     "data": {
      "text/plain": [
       "ECOD(contamination=0.1, n_jobs=1)"
      ]
     },
     "execution_count": 6,
     "metadata": {},
     "output_type": "execute_result"
    }
   ],
   "source": [
    "ecod = ECOD()\n",
    "ecod.fit(df)"
   ]
  },
  {
   "cell_type": "code",
   "execution_count": 7,
   "metadata": {},
   "outputs": [],
   "source": [
    "ecod_score = ecod.decision_function(df)"
   ]
  },
  {
   "cell_type": "code",
   "execution_count": 8,
   "metadata": {},
   "outputs": [
    {
     "data": {
      "text/plain": [
       "array([ 44.26332927,  41.82018327,  54.58694421,  46.9664515 ,\n",
       "        48.53043473,  32.97777998,  40.25203029,  35.34472449,\n",
       "        39.49718735,  35.91580007,  37.63792701,  41.15332912,\n",
       "        38.62055389,  56.3520685 ,  41.56287259,  44.91998935,\n",
       "        59.21443762,  48.24074583,  83.24906587,  47.89021329,\n",
       "        63.66230651,  39.12236147,  69.58421636,  53.18920166,\n",
       "        47.36393362,  62.25574436,  52.16086141,  45.22933165,\n",
       "        45.00755178,  36.69067186,  56.88272566,  48.60011306,\n",
       "        65.39424607,  99.26590541,  61.55105466,  47.28302426,\n",
       "        48.81000167,  49.05614695,  43.66221624,  43.82076023,\n",
       "        46.35669001,  64.20250406,  43.48131956,  42.86007993,\n",
       "        50.36796854,  40.43867359,  37.92510581,  47.74617818,\n",
       "        39.25128289,  45.59893291,  83.60525374,  33.82899472,\n",
       "        46.91402183,  34.75589048,  61.42994025,  46.40031368,\n",
       "        40.69409373,  63.72433585,  61.70955763,  32.65747962,\n",
       "        83.26761217,  41.16717165,  80.2354432 ,  52.16556943,\n",
       "        54.1394347 ,  37.53611717,  58.80888564,  46.44844468,\n",
       "        33.21376557,  48.30041686,  44.3393596 ,  46.4716209 ,\n",
       "        42.92552249,  37.36375726,  38.37109002,  38.73144099,\n",
       "        70.88894339,  62.89015933,  36.49335511,  39.77344505,\n",
       "        44.49780102,  29.79237347,  54.42859182,  72.3200345 ,\n",
       "        35.83886487,  47.87445546,  57.78080813,  80.98784782,\n",
       "        44.00787445,  55.80948948,  36.99242194,  47.1612792 ,\n",
       "        39.61029618,  40.73960386,  43.05720678,  28.61365061,\n",
       "        54.77048263,  42.03583476,  58.69559617,  40.31554479,\n",
       "        62.62514989,  37.53238526,  40.3851092 ,  57.47762025,\n",
       "        46.46535029,  48.86619219,  43.29942178,  52.15867636,\n",
       "        54.84515567,  33.07680427,  37.01798331,  44.39134263,\n",
       "        47.63354681,  36.78920156,  46.89888567,  32.00821137,\n",
       "        29.98254878,  54.9152127 ,  37.55215575,  36.32839441,\n",
       "        41.76754575,  36.07233412,  45.83489235,  39.33656868,\n",
       "        36.65303705,  58.25035525,  46.58245969,  55.43494939,\n",
       "        32.10790448,  54.300534  ,  51.6422494 ,  37.26594305,\n",
       "        73.77180025,  74.90348487,  35.38430745,  27.15913076,\n",
       "        56.13799581,  35.61393641,  37.21612718,  29.87419359,\n",
       "        39.78599393,  63.52660721,  64.56244834,  35.15333526,\n",
       "        61.55175281,  33.97155578,  84.5783695 ,  51.84997297,\n",
       "        52.95429719,  61.35898985,  32.88409193,  60.42897332,\n",
       "        48.47672472,  59.15987013,  54.54194325,  34.78154776,\n",
       "        38.57965003,  30.28708907,  42.79632032,  38.76121826,\n",
       "        31.54302035,  43.12393932,  51.46187362,  48.08821591,\n",
       "        50.709125  ,  82.2678938 ,  51.28541206,  37.98208452,\n",
       "        47.48932715,  50.90149861,  40.22162683,  48.16308906,\n",
       "        52.25859641,  41.49781945,  32.08088792,  47.11166246,\n",
       "        59.55033324,  42.98602678,  56.54012468,  43.89162062,\n",
       "        45.10695405,  48.28256774,  59.9858713 ,  45.78443988,\n",
       "        52.40991592,  87.33010935,  55.94141968,  50.84935304,\n",
       "        35.3675632 ,  78.16283775,  62.83004437,  60.28311722,\n",
       "        71.33909439,  56.16293254,  39.34542361,  51.09128151,\n",
       "        72.88275899,  44.74179838,  45.31176288,  49.78884183,\n",
       "        38.19193324,  70.7696564 ,  55.77616557,  35.61695637,\n",
       "        46.7456262 ,  56.52790756,  52.54673656,  51.68046308,\n",
       "        28.33231954,  45.29659277,  47.43247989,  40.50816831,\n",
       "        62.52956746,  50.70081326,  67.00137586,  50.57645808,\n",
       "        90.91286637,  70.22743363,  60.35103185,  56.32514526,\n",
       "        43.09548765,  87.94648115,  79.28832681,  45.26367687,\n",
       "        47.53446988,  44.82212594,  49.31842404,  56.36744117,\n",
       "        40.04639022,  55.04818684,  50.27951867,  80.51112519,\n",
       "        43.10001801,  47.55817505,  39.55536197,  52.01558899,\n",
       "        38.46739618,  45.17706642,  46.82575371,  86.85970016,\n",
       "        71.97206095,  54.33847108,  40.95330887, 121.99123295,\n",
       "        47.14385621,  49.95902071,  72.0526272 ,  36.98978744,\n",
       "        99.552705  ,  34.96375079,  40.95027274,  59.74597431,\n",
       "        40.81453186,  45.68291895,  57.22897397,  58.30036294,\n",
       "        44.06598483,  55.67682256,  78.4019679 ,  35.55469178,\n",
       "        63.41534335,  34.36252084,  50.82090116,  71.32411562,\n",
       "        66.65733289,  41.8603188 ,  47.08746958,  42.60841062,\n",
       "        47.61539394,  40.84478215,  65.65679213,  58.99372989,\n",
       "        52.79621329,  48.57754913,  53.8866803 ,  35.04209464,\n",
       "        33.61077023,  39.22954533,  47.17264846,  60.01463846,\n",
       "        48.8266789 ,  41.50975266,  50.12399924,  48.40513265,\n",
       "        78.79064212,  46.85165481,  52.99082641,  37.63358477,\n",
       "        42.46973582,  48.27235163,  34.05645852,  34.75471871,\n",
       "        43.74157975,  45.0523883 ,  46.35091912,  91.72131106,\n",
       "        46.28802308,  34.37014615,  35.19349713,  44.10310582,\n",
       "        44.11662189,  38.74147691,  40.9210974 ,  44.59665285,\n",
       "        73.3554997 ,  46.31121396,  44.21153671,  38.50838366,\n",
       "        39.05634719,  42.37952385,  43.48063616,  50.59503326,\n",
       "        48.05486717,  48.13216827,  70.15649411,  45.98134025,\n",
       "        46.11843204,  36.60956388,  50.84043152,  45.05251855,\n",
       "        35.50890452,  85.39890858,  42.15411399,  73.66470634,\n",
       "        33.84837788,  87.11376918,  70.27002675,  53.66458898,\n",
       "        62.49900991,  72.37255929,  49.53918327,  64.10824346,\n",
       "        43.79393786,  50.5294253 ,  53.44500701,  36.9164707 ,\n",
       "        43.1967969 ,  58.23311294,  69.32884308,  42.4121698 ,\n",
       "        52.66822016,  44.59412402,  35.83217478,  44.92777402,\n",
       "        35.25435718,  68.59868701,  37.82290018,  27.60428547,\n",
       "        39.60594718,  49.03385713,  42.46236924,  51.63926502,\n",
       "        36.35681003,  78.64242948,  42.72342631,  41.95149639,\n",
       "        56.39992284,  35.80077731,  46.8216014 ,  77.86045461,\n",
       "        33.37997487,  42.67946471,  52.85467117,  43.05348329,\n",
       "        40.73521993,  57.15506972,  57.329731  ])"
      ]
     },
     "execution_count": 8,
     "metadata": {},
     "output_type": "execute_result"
    }
   ],
   "source": [
    "ecod_score"
   ]
  },
  {
   "cell_type": "code",
   "execution_count": 9,
   "metadata": {},
   "outputs": [
    {
     "data": {
      "text/plain": [
       "array([0, 0, 0, 0, 0, 0, 0, 0, 0, 0, 0, 0, 0, 0, 0, 0, 0, 0, 1, 0, 0, 0,\n",
       "       0, 0, 0, 0, 0, 0, 0, 0, 0, 0, 0, 1, 0, 0, 0, 0, 0, 0, 0, 0, 0, 0,\n",
       "       0, 0, 0, 0, 0, 0, 1, 0, 0, 0, 0, 0, 0, 0, 0, 0, 1, 0, 1, 0, 0, 0,\n",
       "       0, 0, 0, 0, 0, 0, 0, 0, 0, 0, 1, 0, 0, 0, 0, 0, 0, 1, 0, 0, 0, 1,\n",
       "       0, 0, 0, 0, 0, 0, 0, 0, 0, 0, 0, 0, 0, 0, 0, 0, 0, 0, 0, 0, 0, 0,\n",
       "       0, 0, 0, 0, 0, 0, 0, 0, 0, 0, 0, 0, 0, 0, 0, 0, 0, 0, 0, 0, 0, 0,\n",
       "       1, 1, 0, 0, 0, 0, 0, 0, 0, 0, 0, 0, 0, 0, 1, 0, 0, 0, 0, 0, 0, 0,\n",
       "       0, 0, 0, 0, 0, 0, 0, 0, 0, 0, 0, 1, 0, 0, 0, 0, 0, 0, 0, 0, 0, 0,\n",
       "       0, 0, 0, 0, 0, 0, 0, 0, 0, 1, 0, 0, 0, 1, 0, 0, 1, 0, 0, 0, 1, 0,\n",
       "       0, 0, 0, 1, 0, 0, 0, 0, 0, 0, 0, 0, 0, 0, 0, 0, 0, 0, 1, 0, 0, 0,\n",
       "       0, 1, 1, 0, 0, 0, 0, 0, 0, 0, 0, 1, 0, 0, 0, 0, 0, 0, 0, 1, 1, 0,\n",
       "       0, 1, 0, 0, 1, 0, 1, 0, 0, 0, 0, 0, 0, 0, 0, 0, 1, 0, 0, 0, 0, 1,\n",
       "       0, 0, 0, 0, 0, 0, 0, 0, 0, 0, 0, 0, 0, 0, 0, 0, 0, 0, 0, 0, 1, 0,\n",
       "       0, 0, 0, 0, 0, 0, 0, 0, 0, 1, 0, 0, 0, 0, 0, 0, 0, 0, 1, 0, 0, 0,\n",
       "       0, 0, 0, 0, 0, 0, 0, 0, 0, 0, 0, 0, 0, 1, 0, 1, 0, 1, 0, 0, 0, 1,\n",
       "       0, 0, 0, 0, 0, 0, 0, 0, 0, 0, 0, 0, 0, 0, 0, 0, 0, 0, 0, 0, 0, 0,\n",
       "       0, 1, 0, 0, 0, 0, 0, 1, 0, 0, 0, 0, 0, 0, 0])"
      ]
     },
     "execution_count": 9,
     "metadata": {},
     "output_type": "execute_result"
    }
   ],
   "source": [
    "ecod_pred = ecod.predict(df)\n",
    "ecod_pred"
   ]
  },
  {
   "cell_type": "code",
   "execution_count": 10,
   "metadata": {},
   "outputs": [
    {
     "data": {
      "text/plain": [
       "0.9209809264305178"
      ]
     },
     "execution_count": 10,
     "metadata": {},
     "output_type": "execute_result"
    }
   ],
   "source": [
    "ecod_acc = accuracy_score(y, ecod_pred)\n",
    "ecod_acc"
   ]
  },
  {
   "cell_type": "code",
   "execution_count": 11,
   "metadata": {},
   "outputs": [
    {
     "name": "stdout",
     "output_type": "stream",
     "text": [
      "0.9613445378151261\n"
     ]
    },
    {
     "data": {
      "image/png": "[encoded data removed]",
      "text/plain": [
       "<Figure size 800x600 with 1 Axes>"
      ]
     },
     "metadata": {},
     "output_type": "display_data"
    }
   ],
   "source": [
    "ecod_fpr, ecod_tpr, ecod_thresholds = roc_curve(y, ecod_score)\n",
    "roc_auc = auc(ecod_fpr, ecod_tpr)\n",
    "print(roc_auc)\n",
    "# Plot the ROC curve\n",
    "plt.figure(figsize=(8, 6))\n",
    "plt.plot(ecod_fpr, ecod_tpr, color='darkorange', lw=2, label='ROC curve (area = %0.2f)' % roc_auc)\n",
    "plt.plot([0, 1], [0, 1], color='navy', lw=2, linestyle='--')  # Diagonal line\n",
    "plt.xlim([0.0, 1.0])\n",
    "plt.ylim([0.0, 1.05])\n",
    "plt.xlabel('False Positive Rate')\n",
    "plt.ylabel('True Positive Rate')\n",
    "plt.title('ECOD ROC')\n",
    "plt.legend(loc='lower right')\n",
    "plt.show()"
   ]
  },
  {
   "cell_type": "markdown",
   "metadata": {},
   "source": [
    "LUNAR"
   ]
  },
  {
   "cell_type": "code",
   "execution_count": 20,
   "metadata": {},
   "outputs": [
    {
     "data": {
      "text/plain": [
       "LUNAR(contamination=0.1, epsilon=0.1, lr=0.001, model_type='WEIGHT',\n",
       "   n_epochs=200, n_neighbours=5, negative_sampling='MIXED', proportion=1.0,\n",
       "   scaler=MinMaxScaler(), val_size=0.1, verbose=0, wd=0.1)"
      ]
     },
     "execution_count": 20,
     "metadata": {},
     "output_type": "execute_result"
    }
   ],
   "source": [
    "lunar = LUNAR()\n",
    "lunar.fit(df)"
   ]
  },
  {
   "cell_type": "code",
   "execution_count": 21,
   "metadata": {},
   "outputs": [
    {
     "data": {
      "text/plain": [
       "array([-0.6786189 , -0.56258404, -0.0910989 , -0.5308076 , -0.42977834,\n",
       "       -0.64664716, -0.6951881 , -0.5313621 , -0.66818726, -0.664557  ,\n",
       "       -0.4246598 , -0.440449  , -0.44955254, -0.58296615, -0.3985921 ,\n",
       "       -0.76049703, -0.3616482 , -0.66529214,  0.40273857, -0.49552482,\n",
       "       -0.32863772, -0.50025505,  0.16046369, -0.7936053 , -0.55363715,\n",
       "        0.02522779, -0.62098366, -0.5160667 , -0.493066  , -0.5407843 ,\n",
       "       -0.06172287, -0.62196267, -0.61336684,  1.2691249 , -0.5582755 ,\n",
       "       -0.569795  , -0.6444371 , -0.48381132, -0.37174523, -0.3506661 ,\n",
       "       -0.70997924,  0.21979117, -0.62414205, -0.65278447, -0.52051127,\n",
       "       -0.60411054, -0.69880533, -0.32224607, -0.6254946 , -0.539419  ,\n",
       "        0.24138165, -0.6266882 , -0.23846197, -0.61290556, -0.2639588 ,\n",
       "       -0.5604941 , -0.5087437 , -0.62418795,  0.19128609, -0.5520917 ,\n",
       "        0.0607481 , -0.566694  ,  0.71847117, -0.53903395, -0.70987386,\n",
       "       -0.53778136, -0.40379345, -0.62913   , -0.6681929 , -0.6529765 ,\n",
       "       -0.21725535, -0.35128307, -0.71826524, -0.6659047 , -0.4446602 ,\n",
       "       -0.34244114, -0.18935311, -0.41348344, -0.7662704 , -0.6754759 ,\n",
       "       -0.4007008 , -0.77395177, -0.47365344,  0.21110427, -0.61712915,\n",
       "       -0.52804387,  0.16778696,  0.03988564, -0.5315804 , -0.03400278,\n",
       "       -0.4970467 , -0.44444126, -0.53886956, -0.64452994, -0.34050226,\n",
       "       -0.7418177 , -0.33197844, -0.7123366 , -0.23652041, -0.535474  ,\n",
       "       -0.5096499 , -0.48385245, -0.51935977, -0.33025414, -0.47961223,\n",
       "       -0.3612889 , -0.24803722, -0.57486767, -0.6920293 , -0.5559712 ,\n",
       "       -0.46042705, -0.6069369 , -0.555919  , -0.6490834 , -0.5934884 ,\n",
       "       -0.8019403 , -0.7217299 , -0.24454677, -0.626986  , -0.6310082 ,\n",
       "       -0.5642259 , -0.7334706 , -0.2464664 , -0.74361306, -0.62830096,\n",
       "       -0.5160899 , -0.31145668, -0.058357  , -0.7054204 , -0.36305332,\n",
       "       -0.34302342, -0.6158951 , -0.28190577,  0.36208868, -0.4499511 ,\n",
       "       -0.81180906, -0.5746966 , -0.67780244, -0.64468503, -0.77187675,\n",
       "       -0.39643764, -0.14498901,  0.2890154 , -0.56949323, -0.12047839,\n",
       "       -0.59557414,  0.45594835, -0.29476118, -0.6298176 , -0.3817278 ,\n",
       "       -0.55817807, -0.21062851, -0.32256585, -0.35455704, -0.25061774,\n",
       "       -0.67287546, -0.4892674 , -0.7562581 , -0.54129755, -0.7864906 ,\n",
       "       -0.6105351 , -0.7321632 ,  0.01317811, -0.41006207, -0.40414733,\n",
       "        0.3559736 , -0.53618366, -0.69326264, -0.66578656, -0.17872584,\n",
       "       -0.6601241 , -0.64941156, -0.06863451, -0.3821503 , -0.68037945,\n",
       "       -0.55887485,  0.00474226, -0.84473234, -0.630007  , -0.3007356 ,\n",
       "       -0.51736766, -0.6540954 , -0.22014022, -0.3775336 , -0.6193828 ,\n",
       "       -0.30588156, -0.5733121 , -0.5256897 , -0.6953767 ,  0.51151526,\n",
       "        0.09352005, -0.28871953,  0.33647156, -0.54595184, -0.5601511 ,\n",
       "       -0.59918404,  0.51602125, -0.6401811 , -0.68063426, -0.2497642 ,\n",
       "       -0.7494098 , -0.58279413, -0.5949556 , -0.6683159 , -0.34433436,\n",
       "       -0.3052739 , -0.19515169, -0.5694462 , -0.7710289 , -0.32937193,\n",
       "       -0.34478533, -0.3218854 ,  0.41203046, -0.13989913,  0.13276255,\n",
       "       -0.32068694,  0.450747  ,  0.20510459, -0.5734359 , -0.1697948 ,\n",
       "       -0.50040823,  0.04505444,  0.56212056, -0.52024525, -0.595185  ,\n",
       "       -0.45102882, -0.5273659 , -0.14399195, -0.48540002, -0.2613958 ,\n",
       "       -0.31943464,  0.14651012, -0.5809178 , -0.3675357 , -0.6192509 ,\n",
       "       -0.58891773, -0.6397667 , -0.56866676, -0.51748383,  0.6134728 ,\n",
       "       -0.03980017, -0.34916347, -0.42471683,  1.7350053 , -0.46372324,\n",
       "       -0.06422746,  0.1274966 , -0.60895985,  0.99946654, -0.6273275 ,\n",
       "       -0.6557348 ,  0.07132626, -0.65388787, -0.43788606, -0.32458663,\n",
       "       -0.12749493, -0.50732064, -0.4252963 ,  0.24700439, -0.32887828,\n",
       "       -0.03955638, -0.5637107 , -0.6615411 , -0.6217133 , -0.46098518,\n",
       "       -0.5365633 , -0.5319797 , -0.4233595 , -0.50301135, -0.5484876 ,\n",
       "       -0.55533546,  0.11113536, -0.5266971 , -0.2457838 , -0.601468  ,\n",
       "       -0.71090066, -0.65855885, -0.6404973 , -0.25375497, -0.36318147,\n",
       "       -0.44440585, -0.5075857 , -0.19738412, -0.43581617,  0.36820662,\n",
       "       -0.20985341, -0.5604799 , -0.50963837, -0.6198259 , -0.7581053 ,\n",
       "       -0.6673334 , -0.5498967 , -0.45850432, -0.6527344 , -0.50140023,\n",
       "        1.3575071 , -0.27934694, -0.69544137, -0.6524309 , -0.6692009 ,\n",
       "       -0.56676656, -0.5424067 , -0.5696174 , -0.19190168,  0.41306627,\n",
       "       -0.5627888 , -0.40255994, -0.5799757 , -0.5415256 , -0.595477  ,\n",
       "       -0.2819419 , -0.42625207, -0.5107409 , -0.30622882, -0.26850164,\n",
       "       -0.36784852, -0.26040447, -0.57357043, -0.5153611 , -0.563873  ,\n",
       "       -0.5003353 ,  1.522708  , -0.26188338, -0.1348499 , -0.73212576,\n",
       "        1.3208679 , -0.1996243 , -0.31045437, -0.41533375, -0.59578335,\n",
       "       -0.49576712,  0.1902746 , -0.50862247, -0.19206285, -0.64391863,\n",
       "       -0.6257733 , -0.3965541 , -0.49023545, -0.3596068 , -0.6944594 ,\n",
       "       -0.68620545, -0.472902  , -0.71004933, -0.5849555 , -0.5088733 ,\n",
       "        0.40755785, -0.58591855, -0.7739762 , -0.41591585, -0.5022228 ,\n",
       "       -0.53347814, -0.635239  , -0.5825418 , -0.48359078, -0.28578025,\n",
       "       -0.38713014,  0.02817047, -0.6089545 , -0.58921057,  0.4164772 ,\n",
       "       -0.6431153 , -0.49426758, -0.6493565 , -0.59092224, -0.7796288 ,\n",
       "        0.11063695, -0.34541667], dtype=float32)"
      ]
     },
     "execution_count": 21,
     "metadata": {},
     "output_type": "execute_result"
    }
   ],
   "source": [
    "lunar_score = lunar.decision_function(df)\n",
    "lunar_score"
   ]
  },
  {
   "cell_type": "code",
   "execution_count": 22,
   "metadata": {},
   "outputs": [
    {
     "data": {
      "text/plain": [
       "array([0, 0, 0, 0, 0, 0, 0, 0, 0, 0, 0, 0, 0, 0, 0, 0, 0, 0, 1, 0, 0, 0,\n",
       "       1, 0, 0, 0, 0, 0, 0, 0, 0, 0, 0, 1, 0, 0, 0, 0, 0, 0, 0, 1, 0, 0,\n",
       "       0, 0, 0, 0, 0, 0, 1, 0, 0, 0, 0, 0, 0, 0, 1, 0, 0, 0, 1, 0, 0, 0,\n",
       "       0, 0, 0, 0, 0, 0, 0, 0, 0, 0, 0, 0, 0, 0, 0, 0, 0, 1, 0, 0, 1, 0,\n",
       "       0, 0, 0, 0, 0, 0, 0, 0, 0, 0, 0, 0, 0, 0, 0, 0, 0, 0, 0, 0, 0, 0,\n",
       "       0, 0, 0, 0, 0, 0, 0, 0, 0, 0, 0, 0, 0, 0, 0, 0, 0, 0, 0, 0, 0, 0,\n",
       "       0, 1, 0, 0, 0, 0, 0, 0, 0, 0, 1, 0, 0, 0, 1, 0, 0, 0, 0, 0, 0, 0,\n",
       "       0, 0, 0, 0, 0, 0, 0, 0, 0, 0, 0, 1, 0, 0, 0, 0, 0, 0, 0, 0, 0, 0,\n",
       "       0, 0, 0, 0, 0, 0, 0, 0, 0, 0, 0, 0, 0, 1, 0, 0, 1, 0, 0, 0, 1, 0,\n",
       "       0, 0, 0, 0, 0, 0, 0, 0, 0, 0, 0, 0, 0, 0, 1, 0, 1, 0, 1, 1, 0, 0,\n",
       "       0, 0, 1, 0, 0, 0, 0, 0, 0, 0, 0, 1, 0, 0, 0, 0, 0, 0, 0, 1, 0, 0,\n",
       "       0, 1, 0, 0, 1, 0, 1, 0, 0, 0, 0, 0, 0, 0, 0, 0, 1, 0, 0, 0, 0, 0,\n",
       "       0, 0, 0, 0, 0, 0, 0, 1, 0, 0, 0, 0, 0, 0, 0, 0, 0, 0, 0, 0, 1, 0,\n",
       "       0, 0, 0, 0, 0, 0, 0, 0, 0, 1, 0, 0, 0, 0, 0, 0, 0, 0, 1, 0, 0, 0,\n",
       "       0, 0, 0, 0, 0, 0, 0, 0, 0, 0, 0, 0, 0, 1, 0, 0, 0, 1, 0, 0, 0, 0,\n",
       "       0, 1, 0, 0, 0, 0, 0, 0, 0, 0, 0, 0, 0, 0, 0, 1, 0, 0, 0, 0, 0, 0,\n",
       "       0, 0, 0, 0, 0, 0, 0, 1, 0, 0, 0, 0, 0, 1, 0])"
      ]
     },
     "execution_count": 22,
     "metadata": {},
     "output_type": "execute_result"
    }
   ],
   "source": [
    "lunar_pred = lunar.predict(df)\n",
    "lunar_pred"
   ]
  },
  {
   "cell_type": "code",
   "execution_count": 23,
   "metadata": {},
   "outputs": [
    {
     "data": {
      "text/plain": [
       "0.9264305177111717"
      ]
     },
     "execution_count": 23,
     "metadata": {},
     "output_type": "execute_result"
    }
   ],
   "source": [
    "lunar_acc = accuracy_score(y,lunar_pred)\n",
    "lunar_acc"
   ]
  },
  {
   "cell_type": "code",
   "execution_count": 25,
   "metadata": {},
   "outputs": [
    {
     "name": "stdout",
     "output_type": "stream",
     "text": [
      "0.9787114845938376\n"
     ]
    },
    {
     "data": {
      "image/png": "[encoded data removed]",
      "text/plain": [
       "<Figure size 800x600 with 1 Axes>"
      ]
     },
     "metadata": {},
     "output_type": "display_data"
    }
   ],
   "source": [
    "lunar_fpr, lunar_tpr, lunar_thresholds = roc_curve(y, lunar_score)\n",
    "roc_auc = auc(lunar_fpr, lunar_tpr)\n",
    "print(roc_auc)\n",
    "# Plot the ROC curve\n",
    "plt.figure(figsize=(8, 6))\n",
    "plt.plot(lunar_fpr, lunar_tpr, color='darkorange', lw=2, label='ROC curve (area = %0.2f)' % roc_auc)\n",
    "plt.plot([0, 1], [0, 1], color='navy', lw=2, linestyle='--')  # Diagonal line\n",
    "plt.xlim([0.0, 1.0])\n",
    "plt.ylim([0.0, 1.05])\n",
    "plt.xlabel('False Positive Rate')\n",
    "plt.ylabel('True Positive Rate')\n",
    "plt.title('LUNAR ROC')\n",
    "plt.legend(loc='lower right')\n",
    "plt.show()"
   ]
  },
  {
   "cell_type": "code",
   "execution_count": 26,
   "metadata": {},
   "outputs": [
    {
     "data": {
      "text/html": [
       "<div>\n",
       "<style scoped>\n",
       "    .dataframe tbody tr th:only-of-type {\n",
       "        vertical-align: middle;\n",
       "    }\n",
       "\n",
       "    .dataframe tbody tr th {\n",
       "        vertical-align: top;\n",
       "    }\n",
       "\n",
       "    .dataframe thead th {\n",
       "        text-align: right;\n",
       "    }\n",
       "</style>\n",
       "<table border=\"1\" class=\"dataframe\">\n",
       "  <thead>\n",
       "    <tr style=\"text-align: right;\">\n",
       "      <th></th>\n",
       "      <th>lunar_score</th>\n",
       "      <th>ecod_score</th>\n",
       "      <th>y</th>\n",
       "    </tr>\n",
       "  </thead>\n",
       "  <tbody>\n",
       "    <tr>\n",
       "      <th>0</th>\n",
       "      <td>-0.678619</td>\n",
       "      <td>44.263329</td>\n",
       "      <td>0</td>\n",
       "    </tr>\n",
       "    <tr>\n",
       "      <th>1</th>\n",
       "      <td>-0.562584</td>\n",
       "      <td>41.820183</td>\n",
       "      <td>0</td>\n",
       "    </tr>\n",
       "    <tr>\n",
       "      <th>2</th>\n",
       "      <td>-0.091099</td>\n",
       "      <td>54.586944</td>\n",
       "      <td>0</td>\n",
       "    </tr>\n",
       "    <tr>\n",
       "      <th>3</th>\n",
       "      <td>-0.530808</td>\n",
       "      <td>46.966452</td>\n",
       "      <td>0</td>\n",
       "    </tr>\n",
       "    <tr>\n",
       "      <th>4</th>\n",
       "      <td>-0.429778</td>\n",
       "      <td>48.530435</td>\n",
       "      <td>0</td>\n",
       "    </tr>\n",
       "    <tr>\n",
       "      <th>...</th>\n",
       "      <td>...</td>\n",
       "      <td>...</td>\n",
       "      <td>...</td>\n",
       "    </tr>\n",
       "    <tr>\n",
       "      <th>362</th>\n",
       "      <td>-0.649356</td>\n",
       "      <td>52.854671</td>\n",
       "      <td>0</td>\n",
       "    </tr>\n",
       "    <tr>\n",
       "      <th>363</th>\n",
       "      <td>-0.590922</td>\n",
       "      <td>43.053483</td>\n",
       "      <td>0</td>\n",
       "    </tr>\n",
       "    <tr>\n",
       "      <th>364</th>\n",
       "      <td>-0.779629</td>\n",
       "      <td>40.735220</td>\n",
       "      <td>0</td>\n",
       "    </tr>\n",
       "    <tr>\n",
       "      <th>365</th>\n",
       "      <td>0.110637</td>\n",
       "      <td>57.155070</td>\n",
       "      <td>0</td>\n",
       "    </tr>\n",
       "    <tr>\n",
       "      <th>366</th>\n",
       "      <td>-0.345417</td>\n",
       "      <td>57.329731</td>\n",
       "      <td>0</td>\n",
       "    </tr>\n",
       "  </tbody>\n",
       "</table>\n",
       "<p>367 rows × 3 columns</p>\n",
       "</div>"
      ],
      "text/plain": [
       "     lunar_score  ecod_score  y\n",
       "0      -0.678619   44.263329  0\n",
       "1      -0.562584   41.820183  0\n",
       "2      -0.091099   54.586944  0\n",
       "3      -0.530808   46.966452  0\n",
       "4      -0.429778   48.530435  0\n",
       "..           ...         ... ..\n",
       "362    -0.649356   52.854671  0\n",
       "363    -0.590922   43.053483  0\n",
       "364    -0.779629   40.735220  0\n",
       "365     0.110637   57.155070  0\n",
       "366    -0.345417   57.329731  0\n",
       "\n",
       "[367 rows x 3 columns]"
      ]
     },
     "execution_count": 26,
     "metadata": {},
     "output_type": "execute_result"
    }
   ],
   "source": [
    "y_array = y.values.ravel()\n",
    "\n",
    "score_df = pd.DataFrame({'lunar_score': lunar_score, 'ecod_score': ecod_score, 'y': y_array})\n",
    "score_df"
   ]
  },
  {
   "cell_type": "code",
   "execution_count": 27,
   "metadata": {},
   "outputs": [],
   "source": [
    "x = score_df[['lunar_score', 'ecod_score']]\n",
    "y = score_df['y']"
   ]
  },
  {
   "cell_type": "code",
   "execution_count": 28,
   "metadata": {},
   "outputs": [
    {
     "data": {
      "text/html": [
       "<style>#sk-container-id-1 {color: black;}#sk-container-id-1 pre{padding: 0;}#sk-container-id-1 div.sk-toggleable {background-color: white;}#sk-container-id-1 label.sk-toggleable__label {cursor: pointer;display: block;width: 100%;margin-bottom: 0;padding: 0.3em;box-sizing: border-box;text-align: center;}#sk-container-id-1 label.sk-toggleable__label-arrow:before {content: \"▸\";float: left;margin-right: 0.25em;color: #696969;}#sk-container-id-1 label.sk-toggleable__label-arrow:hover:before {color: black;}#sk-container-id-1 div.sk-estimator:hover label.sk-toggleable__label-arrow:before {color: black;}#sk-container-id-1 div.sk-toggleable__content {max-height: 0;max-width: 0;overflow: hidden;text-align: left;background-color: #f0f8ff;}#sk-container-id-1 div.sk-toggleable__content pre {margin: 0.2em;color: black;border-radius: 0.25em;background-color: #f0f8ff;}#sk-container-id-1 input.sk-toggleable__control:checked~div.sk-toggleable__content {max-height: 200px;max-width: 100%;overflow: auto;}#sk-container-id-1 input.sk-toggleable__control:checked~label.sk-toggleable__label-arrow:before {content: \"▾\";}#sk-container-id-1 div.sk-estimator input.sk-toggleable__control:checked~label.sk-toggleable__label {background-color: #d4ebff;}#sk-container-id-1 div.sk-label input.sk-toggleable__control:checked~label.sk-toggleable__label {background-color: #d4ebff;}#sk-container-id-1 input.sk-hidden--visually {border: 0;clip: rect(1px 1px 1px 1px);clip: rect(1px, 1px, 1px, 1px);height: 1px;margin: -1px;overflow: hidden;padding: 0;position: absolute;width: 1px;}#sk-container-id-1 div.sk-estimator {font-family: monospace;background-color: #f0f8ff;border: 1px dotted black;border-radius: 0.25em;box-sizing: border-box;margin-bottom: 0.5em;}#sk-container-id-1 div.sk-estimator:hover {background-color: #d4ebff;}#sk-container-id-1 div.sk-parallel-item::after {content: \"\";width: 100%;border-bottom: 1px solid gray;flex-grow: 1;}#sk-container-id-1 div.sk-label:hover label.sk-toggleable__label {background-color: #d4ebff;}#sk-container-id-1 div.sk-serial::before {content: \"\";position: absolute;border-left: 1px solid gray;box-sizing: border-box;top: 0;bottom: 0;left: 50%;z-index: 0;}#sk-container-id-1 div.sk-serial {display: flex;flex-direction: column;align-items: center;background-color: white;padding-right: 0.2em;padding-left: 0.2em;position: relative;}#sk-container-id-1 div.sk-item {position: relative;z-index: 1;}#sk-container-id-1 div.sk-parallel {display: flex;align-items: stretch;justify-content: center;background-color: white;position: relative;}#sk-container-id-1 div.sk-item::before, #sk-container-id-1 div.sk-parallel-item::before {content: \"\";position: absolute;border-left: 1px solid gray;box-sizing: border-box;top: 0;bottom: 0;left: 50%;z-index: -1;}#sk-container-id-1 div.sk-parallel-item {display: flex;flex-direction: column;z-index: 1;position: relative;background-color: white;}#sk-container-id-1 div.sk-parallel-item:first-child::after {align-self: flex-end;width: 50%;}#sk-container-id-1 div.sk-parallel-item:last-child::after {align-self: flex-start;width: 50%;}#sk-container-id-1 div.sk-parallel-item:only-child::after {width: 0;}#sk-container-id-1 div.sk-dashed-wrapped {border: 1px dashed gray;margin: 0 0.4em 0.5em 0.4em;box-sizing: border-box;padding-bottom: 0.4em;background-color: white;}#sk-container-id-1 div.sk-label label {font-family: monospace;font-weight: bold;display: inline-block;line-height: 1.2em;}#sk-container-id-1 div.sk-label-container {text-align: center;}#sk-container-id-1 div.sk-container {/* jupyter's `normalize.less` sets `[hidden] { display: none; }` but bootstrap.min.css set `[hidden] { display: none !important; }` so we also need the `!important` here to be able to override the default hidden behavior on the sphinx rendered scikit-learn.org. See: https://github.com/scikit-learn/scikit-learn/issues/21755 */display: inline-block !important;position: relative;}#sk-container-id-1 div.sk-text-repr-fallback {display: none;}</style><div id=\"sk-container-id-1\" class=\"sk-top-container\"><div class=\"sk-text-repr-fallback\"><pre>LogisticRegression(random_state=0, solver=&#x27;liblinear&#x27;)</pre><b>In a Jupyter environment, please rerun this cell to show the HTML representation or trust the notebook. <br />On GitHub, the HTML representation is unable to render, please try loading this page with nbviewer.org.</b></div><div class=\"sk-container\" hidden><div class=\"sk-item\"><div class=\"sk-estimator sk-toggleable\"><input class=\"sk-toggleable__control sk-hidden--visually\" id=\"sk-estimator-id-1\" type=\"checkbox\" checked><label for=\"sk-estimator-id-1\" class=\"sk-toggleable__label sk-toggleable__label-arrow\">LogisticRegression</label><div class=\"sk-toggleable__content\"><pre>LogisticRegression(random_state=0, solver=&#x27;liblinear&#x27;)</pre></div></div></div></div></div>"
      ],
      "text/plain": [
       "LogisticRegression(random_state=0, solver='liblinear')"
      ]
     },
     "execution_count": 28,
     "metadata": {},
     "output_type": "execute_result"
    }
   ],
   "source": [
    "from sklearn.linear_model import LogisticRegression\n",
    "\n",
    "x_train, x_test, y_train, y_test = train_test_split(x, y, test_size = 0.2, random_state = 0)\n",
    "# instantiate the model\n",
    "logreg = LogisticRegression(solver='liblinear', random_state=0)\n",
    "\n",
    "\n",
    "# fit the model\n",
    "logreg.fit(x_train, y_train)"
   ]
  },
  {
   "cell_type": "code",
   "execution_count": 29,
   "metadata": {},
   "outputs": [
    {
     "data": {
      "text/plain": [
       "array([0, 0, 0, 0, 0, 0, 0, 0, 0, 0, 0, 0, 0, 0, 0, 0, 0, 0, 0, 0, 0, 0,\n",
       "       0, 0, 0, 0, 0, 0, 0, 0, 0, 0, 0, 0, 0, 0, 0, 0, 0, 0, 0, 0, 0, 0,\n",
       "       0, 0, 0, 0, 0, 0, 0, 0, 0, 0, 0, 0, 0, 0, 0, 0, 0, 0, 0, 0, 0, 0,\n",
       "       0, 0, 0, 0, 0, 0, 0, 1], dtype=int64)"
      ]
     },
     "execution_count": 29,
     "metadata": {},
     "output_type": "execute_result"
    }
   ],
   "source": [
    "y_pred_test = logreg.predict(x_test)\n",
    "\n",
    "y_pred_test"
   ]
  },
  {
   "cell_type": "code",
   "execution_count": 30,
   "metadata": {},
   "outputs": [
    {
     "name": "stdout",
     "output_type": "stream",
     "text": [
      "Model accuracy score: 0.9865\n"
     ]
    }
   ],
   "source": [
    "print('Model accuracy score: {0:0.4f}'. format(accuracy_score(y_test, y_pred_test)))"
   ]
  },
  {
   "cell_type": "code",
   "execution_count": 31,
   "metadata": {},
   "outputs": [
    {
     "name": "stdout",
     "output_type": "stream",
     "text": [
      "Training set score: 0.9863\n",
      "Test set score: 0.9865\n"
     ]
    }
   ],
   "source": [
    "print('Training set score: {:.4f}'.format(logreg.score(x_train, y_train)))\n",
    "\n",
    "print('Test set score: {:.4f}'.format(logreg.score(x_test, y_test)))"
   ]
  },
  {
   "cell_type": "code",
   "execution_count": 32,
   "metadata": {},
   "outputs": [],
   "source": [
    "from sklearn.model_selection import cross_val_score"
   ]
  },
  {
   "cell_type": "code",
   "execution_count": 33,
   "metadata": {},
   "outputs": [
    {
     "name": "stdout",
     "output_type": "stream",
     "text": [
      "Cross-Validation Scores: [0.98648649 0.97297297 0.98630137 0.98630137 1.        ]\n",
      "Average Cross-Validation Score: 0.9864124398370974\n"
     ]
    }
   ],
   "source": [
    "cv_scores = cross_val_score(logreg, x, y, cv=5)\n",
    "print(f'Cross-Validation Scores: {cv_scores}')\n",
    "print(f'Average Cross-Validation Score: {np.mean(cv_scores)}')"
   ]
  },
  {
   "cell_type": "code",
   "execution_count": 34,
   "metadata": {},
   "outputs": [
    {
     "name": "stdout",
     "output_type": "stream",
     "text": [
      "0.9792717086834734\n"
     ]
    },
    {
     "data": {
      "image/png": "[encoded data removed]",
      "text/plain": [
       "<Figure size 640x480 with 1 Axes>"
      ]
     },
     "metadata": {},
     "output_type": "display_data"
    }
   ],
   "source": [
    "from sklearn.metrics import roc_curve, auc\n",
    "import matplotlib.pyplot as plt\n",
    "# Get predicted probabilities for the test set\n",
    "y_prob = logreg.predict_proba(x)[:, 1]\n",
    "\n",
    "# Calculate ROC curve and AUC\n",
    "fpr, tpr, thresholds = roc_curve(y, y_prob)\n",
    "roc_auc = auc(fpr, tpr)\n",
    "roc_auc_ecod = auc(ecod_fpr, ecod_tpr)\n",
    "roc_auc_lunar = auc(lunar_fpr, lunar_tpr)\n",
    "print(roc_auc)\n",
    "# Plot ROC curve\n",
    "plt.figure()\n",
    "lw = 2\n",
    "plt.plot(fpr, tpr, color='darkorange',\n",
    "         lw=lw, label='ROC curve (area = %0.2f)' % roc_auc)\n",
    "plt.plot([0, 1], [0, 1], color='navy', lw=lw, linestyle='--')\n",
    "plt.plot(ecod_fpr, ecod_tpr, color='darkred', lw=2, label='ROC curve (area = %0.2f)' % roc_auc_ecod)\n",
    "plt.plot(lunar_fpr, lunar_tpr, color='darkblue', lw=2, label='ROC curve (area = %0.2f)' % roc_auc_lunar)\n",
    "\n",
    "\n",
    "plt.xlim([0.0, 1.0])\n",
    "plt.ylim([0.0, 1.05])\n",
    "plt.xlabel('False Positive Rate')\n",
    "plt.ylabel('True Positive Rate')\n",
    "plt.title('Receiver Operating Characteristic (ROC)')\n",
    "plt.legend(loc=\"lower right\")\n",
    "plt.show()"
   ]
  },
  {
   "cell_type": "code",
   "execution_count": 6,
   "metadata": {},
   "outputs": [
    {
     "name": "stdout",
     "output_type": "stream",
     "text": [
      "0.9182561307901906 0.9209809264305179 0.9743243243243246\n",
      "0.94109243697479 0.961344537815126 0.9547058823529412\n"
     ]
    }
   ],
   "source": [
    "lunar_accuracies = []\n",
    "ecod_accuracies = []\n",
    "ensemble_accuracies = []\n",
    "lunar_auc = []\n",
    "ecod_auc = []\n",
    "ensemble_auc = []\n",
    "\n",
    "for i in range (10):\n",
    "  lunar = LUNAR()\n",
    "  lunar.fit(df)\n",
    "  lunar_pred = lunar.predict(df)\n",
    "  lunar_scores = lunar.decision_function(df)\n",
    "  lunar_scores1 = lunar.decision_scores_\n",
    "  lunar_acc = accuracy_score(y,lunar_pred)\n",
    "  lunar_auc_scores = roc_auc_score(y, lunar_scores1)\n",
    "  ecod = ECOD()\n",
    "  ecod.fit(df)\n",
    "  ecod_pred = ecod.predict(df)\n",
    "  ecod_scores1 = ecod.decision_function(df)\n",
    "  ecod_scores = ecod.decision_function(df)\n",
    "  ecod_acc = accuracy_score(y,ecod_pred)\n",
    "  ecod_auc_scores = roc_auc_score(y, ecod_scores1)\n",
    "\n",
    "  y_array = y.values.ravel()\n",
    "\n",
    "  score_df = pd.DataFrame({'lunar_score': lunar_scores, 'ecod_score': ecod_scores, 'y': y_array})\n",
    "  score_df\n",
    "\n",
    "  x = score_df[['lunar_score', 'ecod_score']]\n",
    "  y = score_df['y']\n",
    "  \n",
    "  x_train, x_test, y_train, y_test = train_test_split(x, y, test_size = 0.2, random_state = 0)\n",
    "  logreg = LogisticRegression(solver='liblinear', random_state=0)\n",
    "  logreg.fit(x_train, y_train)\n",
    "  y_pred_test = logreg.predict(x_test)\n",
    "  \n",
    "  ensemble_acc = accuracy_score(y_test,y_pred_test)\n",
    "  y_prob = logreg.predict_proba(x)[:, 1]\n",
    "  fpr, tpr, thresholds = roc_curve(y, y_prob)\n",
    "  ensemble_auc_scores = auc(fpr, tpr)\n",
    "  \n",
    "  lunar_accuracies.append(lunar_acc)\n",
    "  ecod_accuracies.append(ecod_acc)\n",
    "  ensemble_accuracies.append(ensemble_acc)\n",
    "  lunar_auc.append(lunar_auc_scores)\n",
    "  ecod_auc.append(ecod_auc_scores)\n",
    "  ensemble_auc.append(ensemble_auc_scores)\n",
    "\n",
    "\n",
    "avg_lunar_acc = np.mean(lunar_accuracies)\n",
    "avg_ecod_acc = np.mean(ecod_accuracies)\n",
    "avg_ensemble_acc = np.mean(ensemble_accuracies)\n",
    "\n",
    "avg_lunar_auc = np.mean(lunar_auc)\n",
    "avg_ecod_auc = np.mean(ecod_auc)\n",
    "avg_ensemble_auc = np.mean(ensemble_auc)\n",
    "\n",
    "\n",
    "print(avg_lunar_acc,avg_ecod_acc,avg_ensemble_acc)\n",
    "\n",
    "print(avg_lunar_auc,avg_ecod_auc,avg_ensemble_auc)\n",
    "\n",
    "  "
   ]
  }
 ],
 "metadata": {
  "kernelspec": {
   "display_name": "base",
   "language": "python",
   "name": "python3"
  },
  "language_info": {
   "codemirror_mode": {
    "name": "ipython",
    "version": 3
   },
   "file_extension": ".py",
   "mimetype": "text/x-python",
   "name": "python",
   "nbconvert_exporter": "python",
   "pygments_lexer": "ipython3",
   "version": "3.11.5"
  }
 },
 "nbformat": 4,
 "nbformat_minor": 2
}
