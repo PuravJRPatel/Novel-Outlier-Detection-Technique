{
 "cells": [
  {
   "cell_type": "code",
   "execution_count": 1,
   "metadata": {},
   "outputs": [],
   "source": [
    "import pandas as pd\n",
    "import numpy as np\n",
    "import matplotlib.pyplot as plt\n",
    "import seaborn as sns\n",
    "import warnings\n",
    "warnings.filterwarnings('ignore')\n",
    "from pyod.models.ecod import ECOD\n",
    "from pyod.models.lunar import LUNAR\n",
    "from sklearn.model_selection import train_test_split\n",
    "from sklearn.metrics import accuracy_score, confusion_matrix, classification_report\n",
    "from sklearn.linear_model import LogisticRegression\n",
    "from sklearn.preprocessing import StandardScaler\n",
    "from sklearn.metrics import roc_curve, auc\n",
    "from sklearn.metrics import roc_auc_score\n"
   ]
  },
  {
   "cell_type": "code",
   "execution_count": 2,
   "metadata": {},
   "outputs": [],
   "source": [
    "penl = pd.read_csv(r'C:\\Users\\purav\\OneDrive\\Desktop\\Comparative Evaluation of Anomaly Detection Algorithms\\Comparative-Evaluation-of-Anomaly-Detection-Algorithms\\Datasets\\pen-local-unsupervised-ad.csv', header = None)"
   ]
  },
  {
   "cell_type": "code",
   "execution_count": 3,
   "metadata": {},
   "outputs": [
    {
     "data": {
      "text/html": [
       "<div>\n",
       "<style scoped>\n",
       "    .dataframe tbody tr th:only-of-type {\n",
       "        vertical-align: middle;\n",
       "    }\n",
       "\n",
       "    .dataframe tbody tr th {\n",
       "        vertical-align: top;\n",
       "    }\n",
       "\n",
       "    .dataframe thead th {\n",
       "        text-align: right;\n",
       "    }\n",
       "</style>\n",
       "<table border=\"1\" class=\"dataframe\">\n",
       "  <thead>\n",
       "    <tr style=\"text-align: right;\">\n",
       "      <th></th>\n",
       "      <th>0</th>\n",
       "      <th>1</th>\n",
       "      <th>2</th>\n",
       "      <th>3</th>\n",
       "      <th>4</th>\n",
       "      <th>5</th>\n",
       "      <th>6</th>\n",
       "      <th>7</th>\n",
       "      <th>8</th>\n",
       "      <th>9</th>\n",
       "      <th>10</th>\n",
       "      <th>11</th>\n",
       "      <th>12</th>\n",
       "      <th>13</th>\n",
       "      <th>14</th>\n",
       "      <th>15</th>\n",
       "      <th>16</th>\n",
       "    </tr>\n",
       "  </thead>\n",
       "  <tbody>\n",
       "    <tr>\n",
       "      <th>0</th>\n",
       "      <td>47.0</td>\n",
       "      <td>100.0</td>\n",
       "      <td>27.0</td>\n",
       "      <td>81.0</td>\n",
       "      <td>57.0</td>\n",
       "      <td>37.0</td>\n",
       "      <td>26.0</td>\n",
       "      <td>0.0</td>\n",
       "      <td>0.0</td>\n",
       "      <td>23.0</td>\n",
       "      <td>56.0</td>\n",
       "      <td>53.0</td>\n",
       "      <td>100.0</td>\n",
       "      <td>90.0</td>\n",
       "      <td>40.0</td>\n",
       "      <td>98.0</td>\n",
       "      <td>n</td>\n",
       "    </tr>\n",
       "    <tr>\n",
       "      <th>1</th>\n",
       "      <td>0.0</td>\n",
       "      <td>89.0</td>\n",
       "      <td>27.0</td>\n",
       "      <td>100.0</td>\n",
       "      <td>42.0</td>\n",
       "      <td>75.0</td>\n",
       "      <td>29.0</td>\n",
       "      <td>45.0</td>\n",
       "      <td>15.0</td>\n",
       "      <td>15.0</td>\n",
       "      <td>37.0</td>\n",
       "      <td>0.0</td>\n",
       "      <td>69.0</td>\n",
       "      <td>2.0</td>\n",
       "      <td>100.0</td>\n",
       "      <td>6.0</td>\n",
       "      <td>n</td>\n",
       "    </tr>\n",
       "    <tr>\n",
       "      <th>2</th>\n",
       "      <td>0.0</td>\n",
       "      <td>57.0</td>\n",
       "      <td>31.0</td>\n",
       "      <td>68.0</td>\n",
       "      <td>72.0</td>\n",
       "      <td>90.0</td>\n",
       "      <td>100.0</td>\n",
       "      <td>100.0</td>\n",
       "      <td>76.0</td>\n",
       "      <td>75.0</td>\n",
       "      <td>50.0</td>\n",
       "      <td>51.0</td>\n",
       "      <td>28.0</td>\n",
       "      <td>25.0</td>\n",
       "      <td>16.0</td>\n",
       "      <td>0.0</td>\n",
       "      <td>n</td>\n",
       "    </tr>\n",
       "    <tr>\n",
       "      <th>3</th>\n",
       "      <td>0.0</td>\n",
       "      <td>100.0</td>\n",
       "      <td>7.0</td>\n",
       "      <td>92.0</td>\n",
       "      <td>5.0</td>\n",
       "      <td>68.0</td>\n",
       "      <td>19.0</td>\n",
       "      <td>45.0</td>\n",
       "      <td>86.0</td>\n",
       "      <td>34.0</td>\n",
       "      <td>100.0</td>\n",
       "      <td>45.0</td>\n",
       "      <td>74.0</td>\n",
       "      <td>23.0</td>\n",
       "      <td>67.0</td>\n",
       "      <td>0.0</td>\n",
       "      <td>o</td>\n",
       "    </tr>\n",
       "    <tr>\n",
       "      <th>4</th>\n",
       "      <td>0.0</td>\n",
       "      <td>67.0</td>\n",
       "      <td>49.0</td>\n",
       "      <td>83.0</td>\n",
       "      <td>100.0</td>\n",
       "      <td>100.0</td>\n",
       "      <td>81.0</td>\n",
       "      <td>80.0</td>\n",
       "      <td>60.0</td>\n",
       "      <td>60.0</td>\n",
       "      <td>40.0</td>\n",
       "      <td>40.0</td>\n",
       "      <td>33.0</td>\n",
       "      <td>20.0</td>\n",
       "      <td>47.0</td>\n",
       "      <td>0.0</td>\n",
       "      <td>n</td>\n",
       "    </tr>\n",
       "    <tr>\n",
       "      <th>...</th>\n",
       "      <td>...</td>\n",
       "      <td>...</td>\n",
       "      <td>...</td>\n",
       "      <td>...</td>\n",
       "      <td>...</td>\n",
       "      <td>...</td>\n",
       "      <td>...</td>\n",
       "      <td>...</td>\n",
       "      <td>...</td>\n",
       "      <td>...</td>\n",
       "      <td>...</td>\n",
       "      <td>...</td>\n",
       "      <td>...</td>\n",
       "      <td>...</td>\n",
       "      <td>...</td>\n",
       "      <td>...</td>\n",
       "      <td>...</td>\n",
       "    </tr>\n",
       "    <tr>\n",
       "      <th>6719</th>\n",
       "      <td>17.0</td>\n",
       "      <td>63.0</td>\n",
       "      <td>6.0</td>\n",
       "      <td>20.0</td>\n",
       "      <td>51.0</td>\n",
       "      <td>0.0</td>\n",
       "      <td>95.0</td>\n",
       "      <td>28.0</td>\n",
       "      <td>100.0</td>\n",
       "      <td>72.0</td>\n",
       "      <td>55.0</td>\n",
       "      <td>100.0</td>\n",
       "      <td>0.0</td>\n",
       "      <td>91.0</td>\n",
       "      <td>0.0</td>\n",
       "      <td>52.0</td>\n",
       "      <td>n</td>\n",
       "    </tr>\n",
       "    <tr>\n",
       "      <th>6720</th>\n",
       "      <td>0.0</td>\n",
       "      <td>82.0</td>\n",
       "      <td>9.0</td>\n",
       "      <td>59.0</td>\n",
       "      <td>56.0</td>\n",
       "      <td>34.0</td>\n",
       "      <td>41.0</td>\n",
       "      <td>0.0</td>\n",
       "      <td>10.0</td>\n",
       "      <td>30.0</td>\n",
       "      <td>3.0</td>\n",
       "      <td>67.0</td>\n",
       "      <td>42.0</td>\n",
       "      <td>96.0</td>\n",
       "      <td>100.0</td>\n",
       "      <td>100.0</td>\n",
       "      <td>n</td>\n",
       "    </tr>\n",
       "    <tr>\n",
       "      <th>6721</th>\n",
       "      <td>100.0</td>\n",
       "      <td>98.0</td>\n",
       "      <td>60.0</td>\n",
       "      <td>100.0</td>\n",
       "      <td>24.0</td>\n",
       "      <td>87.0</td>\n",
       "      <td>3.0</td>\n",
       "      <td>58.0</td>\n",
       "      <td>35.0</td>\n",
       "      <td>51.0</td>\n",
       "      <td>58.0</td>\n",
       "      <td>26.0</td>\n",
       "      <td>36.0</td>\n",
       "      <td>0.0</td>\n",
       "      <td>0.0</td>\n",
       "      <td>5.0</td>\n",
       "      <td>n</td>\n",
       "    </tr>\n",
       "    <tr>\n",
       "      <th>6722</th>\n",
       "      <td>59.0</td>\n",
       "      <td>65.0</td>\n",
       "      <td>91.0</td>\n",
       "      <td>100.0</td>\n",
       "      <td>84.0</td>\n",
       "      <td>96.0</td>\n",
       "      <td>72.0</td>\n",
       "      <td>50.0</td>\n",
       "      <td>51.0</td>\n",
       "      <td>8.0</td>\n",
       "      <td>0.0</td>\n",
       "      <td>0.0</td>\n",
       "      <td>45.0</td>\n",
       "      <td>1.0</td>\n",
       "      <td>100.0</td>\n",
       "      <td>0.0</td>\n",
       "      <td>n</td>\n",
       "    </tr>\n",
       "    <tr>\n",
       "      <th>6723</th>\n",
       "      <td>0.0</td>\n",
       "      <td>78.0</td>\n",
       "      <td>29.0</td>\n",
       "      <td>100.0</td>\n",
       "      <td>94.0</td>\n",
       "      <td>86.0</td>\n",
       "      <td>70.0</td>\n",
       "      <td>48.0</td>\n",
       "      <td>42.0</td>\n",
       "      <td>11.0</td>\n",
       "      <td>32.0</td>\n",
       "      <td>0.0</td>\n",
       "      <td>25.0</td>\n",
       "      <td>36.0</td>\n",
       "      <td>100.0</td>\n",
       "      <td>40.0</td>\n",
       "      <td>n</td>\n",
       "    </tr>\n",
       "  </tbody>\n",
       "</table>\n",
       "<p>6724 rows × 17 columns</p>\n",
       "</div>"
      ],
      "text/plain": [
       "         0      1     2      3      4      5      6      7      8     9   \\\n",
       "0      47.0  100.0  27.0   81.0   57.0   37.0   26.0    0.0    0.0  23.0   \n",
       "1       0.0   89.0  27.0  100.0   42.0   75.0   29.0   45.0   15.0  15.0   \n",
       "2       0.0   57.0  31.0   68.0   72.0   90.0  100.0  100.0   76.0  75.0   \n",
       "3       0.0  100.0   7.0   92.0    5.0   68.0   19.0   45.0   86.0  34.0   \n",
       "4       0.0   67.0  49.0   83.0  100.0  100.0   81.0   80.0   60.0  60.0   \n",
       "...     ...    ...   ...    ...    ...    ...    ...    ...    ...   ...   \n",
       "6719   17.0   63.0   6.0   20.0   51.0    0.0   95.0   28.0  100.0  72.0   \n",
       "6720    0.0   82.0   9.0   59.0   56.0   34.0   41.0    0.0   10.0  30.0   \n",
       "6721  100.0   98.0  60.0  100.0   24.0   87.0    3.0   58.0   35.0  51.0   \n",
       "6722   59.0   65.0  91.0  100.0   84.0   96.0   72.0   50.0   51.0   8.0   \n",
       "6723    0.0   78.0  29.0  100.0   94.0   86.0   70.0   48.0   42.0  11.0   \n",
       "\n",
       "         10     11     12    13     14     15 16  \n",
       "0      56.0   53.0  100.0  90.0   40.0   98.0  n  \n",
       "1      37.0    0.0   69.0   2.0  100.0    6.0  n  \n",
       "2      50.0   51.0   28.0  25.0   16.0    0.0  n  \n",
       "3     100.0   45.0   74.0  23.0   67.0    0.0  o  \n",
       "4      40.0   40.0   33.0  20.0   47.0    0.0  n  \n",
       "...     ...    ...    ...   ...    ...    ... ..  \n",
       "6719   55.0  100.0    0.0  91.0    0.0   52.0  n  \n",
       "6720    3.0   67.0   42.0  96.0  100.0  100.0  n  \n",
       "6721   58.0   26.0   36.0   0.0    0.0    5.0  n  \n",
       "6722    0.0    0.0   45.0   1.0  100.0    0.0  n  \n",
       "6723   32.0    0.0   25.0  36.0  100.0   40.0  n  \n",
       "\n",
       "[6724 rows x 17 columns]"
      ]
     },
     "execution_count": 3,
     "metadata": {},
     "output_type": "execute_result"
    }
   ],
   "source": [
    "penl"
   ]
  },
  {
   "cell_type": "code",
   "execution_count": 4,
   "metadata": {},
   "outputs": [],
   "source": [
    "shuffled_df = penl.sample(frac=1).reset_index(drop=True)\n",
    "shuffled_df\n",
    "\n",
    "\n",
    "df = pd.DataFrame(shuffled_df.iloc[:, :-1].values)\n",
    "from sklearn.preprocessing import StandardScaler\n",
    "\n",
    "ss = StandardScaler()\n",
    "df = pd.DataFrame(ss.fit_transform(df))\n",
    "\n"
   ]
  },
  {
   "cell_type": "code",
   "execution_count": 5,
   "metadata": {},
   "outputs": [
    {
     "data": {
      "text/html": [
       "<div>\n",
       "<style scoped>\n",
       "    .dataframe tbody tr th:only-of-type {\n",
       "        vertical-align: middle;\n",
       "    }\n",
       "\n",
       "    .dataframe tbody tr th {\n",
       "        vertical-align: top;\n",
       "    }\n",
       "\n",
       "    .dataframe thead th {\n",
       "        text-align: right;\n",
       "    }\n",
       "</style>\n",
       "<table border=\"1\" class=\"dataframe\">\n",
       "  <thead>\n",
       "    <tr style=\"text-align: right;\">\n",
       "      <th></th>\n",
       "      <th>0</th>\n",
       "      <th>1</th>\n",
       "      <th>2</th>\n",
       "      <th>3</th>\n",
       "      <th>4</th>\n",
       "      <th>5</th>\n",
       "      <th>6</th>\n",
       "      <th>7</th>\n",
       "      <th>8</th>\n",
       "      <th>9</th>\n",
       "      <th>10</th>\n",
       "      <th>11</th>\n",
       "      <th>12</th>\n",
       "      <th>13</th>\n",
       "      <th>14</th>\n",
       "      <th>15</th>\n",
       "    </tr>\n",
       "  </thead>\n",
       "  <tbody>\n",
       "    <tr>\n",
       "      <th>0</th>\n",
       "      <td>-1.084713</td>\n",
       "      <td>-0.942989</td>\n",
       "      <td>-1.075252</td>\n",
       "      <td>-2.856206</td>\n",
       "      <td>0.028141</td>\n",
       "      <td>-2.368886</td>\n",
       "      <td>1.556886</td>\n",
       "      <td>-0.723232</td>\n",
       "      <td>1.231999</td>\n",
       "      <td>1.527628</td>\n",
       "      <td>-0.115485</td>\n",
       "      <td>2.462625</td>\n",
       "      <td>-2.051160</td>\n",
       "      <td>1.452156</td>\n",
       "      <td>-0.961959</td>\n",
       "      <td>0.196798</td>\n",
       "    </tr>\n",
       "    <tr>\n",
       "      <th>1</th>\n",
       "      <td>-0.529635</td>\n",
       "      <td>-2.063642</td>\n",
       "      <td>0.984706</td>\n",
       "      <td>-0.555264</td>\n",
       "      <td>1.333745</td>\n",
       "      <td>1.180434</td>\n",
       "      <td>1.195460</td>\n",
       "      <td>0.928151</td>\n",
       "      <td>0.752978</td>\n",
       "      <td>0.486383</td>\n",
       "      <td>0.228953</td>\n",
       "      <td>-0.625106</td>\n",
       "      <td>-2.365104</td>\n",
       "      <td>-0.978737</td>\n",
       "      <td>1.011282</td>\n",
       "      <td>-0.874631</td>\n",
       "    </tr>\n",
       "    <tr>\n",
       "      <th>2</th>\n",
       "      <td>-1.084713</td>\n",
       "      <td>1.003409</td>\n",
       "      <td>-0.426747</td>\n",
       "      <td>-0.800045</td>\n",
       "      <td>1.273019</td>\n",
       "      <td>-1.020144</td>\n",
       "      <td>1.096889</td>\n",
       "      <td>-1.408712</td>\n",
       "      <td>-1.163110</td>\n",
       "      <td>-0.878006</td>\n",
       "      <td>0.175963</td>\n",
       "      <td>0.440897</td>\n",
       "      <td>2.119808</td>\n",
       "      <td>1.366360</td>\n",
       "      <td>-0.445158</td>\n",
       "      <td>1.488007</td>\n",
       "    </tr>\n",
       "    <tr>\n",
       "      <th>3</th>\n",
       "      <td>0.229946</td>\n",
       "      <td>1.003409</td>\n",
       "      <td>0.412495</td>\n",
       "      <td>-0.897958</td>\n",
       "      <td>1.333745</td>\n",
       "      <td>1.109447</td>\n",
       "      <td>-1.005951</td>\n",
       "      <td>1.644789</td>\n",
       "      <td>-0.264944</td>\n",
       "      <td>1.384008</td>\n",
       "      <td>0.705868</td>\n",
       "      <td>1.323105</td>\n",
       "      <td>1.267675</td>\n",
       "      <td>-0.664151</td>\n",
       "      <td>-1.055923</td>\n",
       "      <td>-0.874631</td>\n",
       "    </tr>\n",
       "    <tr>\n",
       "      <th>4</th>\n",
       "      <td>-1.055498</td>\n",
       "      <td>-0.294189</td>\n",
       "      <td>-0.998957</td>\n",
       "      <td>0.815510</td>\n",
       "      <td>0.149593</td>\n",
       "      <td>0.931981</td>\n",
       "      <td>-0.085959</td>\n",
       "      <td>0.585411</td>\n",
       "      <td>-0.983476</td>\n",
       "      <td>0.235048</td>\n",
       "      <td>-1.546229</td>\n",
       "      <td>-0.808899</td>\n",
       "      <td>-0.302045</td>\n",
       "      <td>-1.035935</td>\n",
       "      <td>1.293173</td>\n",
       "      <td>-0.874631</td>\n",
       "    </tr>\n",
       "    <tr>\n",
       "      <th>...</th>\n",
       "      <td>...</td>\n",
       "      <td>...</td>\n",
       "      <td>...</td>\n",
       "      <td>...</td>\n",
       "      <td>...</td>\n",
       "      <td>...</td>\n",
       "      <td>...</td>\n",
       "      <td>...</td>\n",
       "      <td>...</td>\n",
       "      <td>...</td>\n",
       "      <td>...</td>\n",
       "      <td>...</td>\n",
       "      <td>...</td>\n",
       "      <td>...</td>\n",
       "      <td>...</td>\n",
       "      <td>...</td>\n",
       "    </tr>\n",
       "    <tr>\n",
       "      <th>6719</th>\n",
       "      <td>-1.084713</td>\n",
       "      <td>-0.825025</td>\n",
       "      <td>0.259906</td>\n",
       "      <td>-2.366644</td>\n",
       "      <td>0.210318</td>\n",
       "      <td>-2.368886</td>\n",
       "      <td>-1.695946</td>\n",
       "      <td>-1.221763</td>\n",
       "      <td>-0.384699</td>\n",
       "      <td>0.306858</td>\n",
       "      <td>1.103297</td>\n",
       "      <td>1.433382</td>\n",
       "      <td>2.074959</td>\n",
       "      <td>1.823940</td>\n",
       "      <td>-0.609595</td>\n",
       "      <td>1.213282</td>\n",
       "    </tr>\n",
       "    <tr>\n",
       "      <th>6720</th>\n",
       "      <td>-1.026284</td>\n",
       "      <td>0.826464</td>\n",
       "      <td>-1.075252</td>\n",
       "      <td>-0.849002</td>\n",
       "      <td>-0.184399</td>\n",
       "      <td>0.825502</td>\n",
       "      <td>-1.268806</td>\n",
       "      <td>1.707105</td>\n",
       "      <td>0.244017</td>\n",
       "      <td>1.527628</td>\n",
       "      <td>1.103297</td>\n",
       "      <td>0.146827</td>\n",
       "      <td>0.998580</td>\n",
       "      <td>-0.978737</td>\n",
       "      <td>-1.055923</td>\n",
       "      <td>-0.874631</td>\n",
       "    </tr>\n",
       "    <tr>\n",
       "      <th>6721</th>\n",
       "      <td>1.836751</td>\n",
       "      <td>-0.058262</td>\n",
       "      <td>0.717674</td>\n",
       "      <td>0.815510</td>\n",
       "      <td>-0.184399</td>\n",
       "      <td>0.044652</td>\n",
       "      <td>0.636893</td>\n",
       "      <td>-0.442808</td>\n",
       "      <td>-0.474516</td>\n",
       "      <td>-1.165246</td>\n",
       "      <td>-1.546229</td>\n",
       "      <td>-0.625106</td>\n",
       "      <td>-0.974781</td>\n",
       "      <td>0.365404</td>\n",
       "      <td>0.776372</td>\n",
       "      <td>1.213282</td>\n",
       "    </tr>\n",
       "    <tr>\n",
       "      <th>6722</th>\n",
       "      <td>-1.084713</td>\n",
       "      <td>0.413591</td>\n",
       "      <td>-0.083420</td>\n",
       "      <td>0.815510</td>\n",
       "      <td>0.301407</td>\n",
       "      <td>0.399583</td>\n",
       "      <td>-0.283100</td>\n",
       "      <td>0.086881</td>\n",
       "      <td>-1.312804</td>\n",
       "      <td>-0.303526</td>\n",
       "      <td>-1.440248</td>\n",
       "      <td>-1.213245</td>\n",
       "      <td>-0.032950</td>\n",
       "      <td>-1.035935</td>\n",
       "      <td>1.293173</td>\n",
       "      <td>-0.819686</td>\n",
       "    </tr>\n",
       "    <tr>\n",
       "      <th>6723</th>\n",
       "      <td>-1.084713</td>\n",
       "      <td>-1.473824</td>\n",
       "      <td>-1.380431</td>\n",
       "      <td>-0.800045</td>\n",
       "      <td>-0.093310</td>\n",
       "      <td>0.648036</td>\n",
       "      <td>1.556886</td>\n",
       "      <td>1.707105</td>\n",
       "      <td>0.663161</td>\n",
       "      <td>1.527628</td>\n",
       "      <td>-0.168476</td>\n",
       "      <td>0.661449</td>\n",
       "      <td>-0.840234</td>\n",
       "      <td>-0.292367</td>\n",
       "      <td>-0.116284</td>\n",
       "      <td>-0.874631</td>\n",
       "    </tr>\n",
       "  </tbody>\n",
       "</table>\n",
       "<p>6724 rows × 16 columns</p>\n",
       "</div>"
      ],
      "text/plain": [
       "            0         1         2         3         4         5         6   \\\n",
       "0    -1.084713 -0.942989 -1.075252 -2.856206  0.028141 -2.368886  1.556886   \n",
       "1    -0.529635 -2.063642  0.984706 -0.555264  1.333745  1.180434  1.195460   \n",
       "2    -1.084713  1.003409 -0.426747 -0.800045  1.273019 -1.020144  1.096889   \n",
       "3     0.229946  1.003409  0.412495 -0.897958  1.333745  1.109447 -1.005951   \n",
       "4    -1.055498 -0.294189 -0.998957  0.815510  0.149593  0.931981 -0.085959   \n",
       "...        ...       ...       ...       ...       ...       ...       ...   \n",
       "6719 -1.084713 -0.825025  0.259906 -2.366644  0.210318 -2.368886 -1.695946   \n",
       "6720 -1.026284  0.826464 -1.075252 -0.849002 -0.184399  0.825502 -1.268806   \n",
       "6721  1.836751 -0.058262  0.717674  0.815510 -0.184399  0.044652  0.636893   \n",
       "6722 -1.084713  0.413591 -0.083420  0.815510  0.301407  0.399583 -0.283100   \n",
       "6723 -1.084713 -1.473824 -1.380431 -0.800045 -0.093310  0.648036  1.556886   \n",
       "\n",
       "            7         8         9         10        11        12        13  \\\n",
       "0    -0.723232  1.231999  1.527628 -0.115485  2.462625 -2.051160  1.452156   \n",
       "1     0.928151  0.752978  0.486383  0.228953 -0.625106 -2.365104 -0.978737   \n",
       "2    -1.408712 -1.163110 -0.878006  0.175963  0.440897  2.119808  1.366360   \n",
       "3     1.644789 -0.264944  1.384008  0.705868  1.323105  1.267675 -0.664151   \n",
       "4     0.585411 -0.983476  0.235048 -1.546229 -0.808899 -0.302045 -1.035935   \n",
       "...        ...       ...       ...       ...       ...       ...       ...   \n",
       "6719 -1.221763 -0.384699  0.306858  1.103297  1.433382  2.074959  1.823940   \n",
       "6720  1.707105  0.244017  1.527628  1.103297  0.146827  0.998580 -0.978737   \n",
       "6721 -0.442808 -0.474516 -1.165246 -1.546229 -0.625106 -0.974781  0.365404   \n",
       "6722  0.086881 -1.312804 -0.303526 -1.440248 -1.213245 -0.032950 -1.035935   \n",
       "6723  1.707105  0.663161  1.527628 -0.168476  0.661449 -0.840234 -0.292367   \n",
       "\n",
       "            14        15  \n",
       "0    -0.961959  0.196798  \n",
       "1     1.011282 -0.874631  \n",
       "2    -0.445158  1.488007  \n",
       "3    -1.055923 -0.874631  \n",
       "4     1.293173 -0.874631  \n",
       "...        ...       ...  \n",
       "6719 -0.609595  1.213282  \n",
       "6720 -1.055923 -0.874631  \n",
       "6721  0.776372  1.213282  \n",
       "6722  1.293173 -0.819686  \n",
       "6723 -0.116284 -0.874631  \n",
       "\n",
       "[6724 rows x 16 columns]"
      ]
     },
     "execution_count": 5,
     "metadata": {},
     "output_type": "execute_result"
    }
   ],
   "source": [
    "df"
   ]
  },
  {
   "cell_type": "code",
   "execution_count": 6,
   "metadata": {},
   "outputs": [
    {
     "data": {
      "text/html": [
       "<div>\n",
       "<style scoped>\n",
       "    .dataframe tbody tr th:only-of-type {\n",
       "        vertical-align: middle;\n",
       "    }\n",
       "\n",
       "    .dataframe tbody tr th {\n",
       "        vertical-align: top;\n",
       "    }\n",
       "\n",
       "    .dataframe thead th {\n",
       "        text-align: right;\n",
       "    }\n",
       "</style>\n",
       "<table border=\"1\" class=\"dataframe\">\n",
       "  <thead>\n",
       "    <tr style=\"text-align: right;\">\n",
       "      <th></th>\n",
       "      <th>16</th>\n",
       "    </tr>\n",
       "  </thead>\n",
       "  <tbody>\n",
       "    <tr>\n",
       "      <th>0</th>\n",
       "      <td>0</td>\n",
       "    </tr>\n",
       "    <tr>\n",
       "      <th>1</th>\n",
       "      <td>0</td>\n",
       "    </tr>\n",
       "    <tr>\n",
       "      <th>2</th>\n",
       "      <td>0</td>\n",
       "    </tr>\n",
       "    <tr>\n",
       "      <th>3</th>\n",
       "      <td>0</td>\n",
       "    </tr>\n",
       "    <tr>\n",
       "      <th>4</th>\n",
       "      <td>0</td>\n",
       "    </tr>\n",
       "    <tr>\n",
       "      <th>...</th>\n",
       "      <td>...</td>\n",
       "    </tr>\n",
       "    <tr>\n",
       "      <th>6719</th>\n",
       "      <td>0</td>\n",
       "    </tr>\n",
       "    <tr>\n",
       "      <th>6720</th>\n",
       "      <td>0</td>\n",
       "    </tr>\n",
       "    <tr>\n",
       "      <th>6721</th>\n",
       "      <td>0</td>\n",
       "    </tr>\n",
       "    <tr>\n",
       "      <th>6722</th>\n",
       "      <td>0</td>\n",
       "    </tr>\n",
       "    <tr>\n",
       "      <th>6723</th>\n",
       "      <td>0</td>\n",
       "    </tr>\n",
       "  </tbody>\n",
       "</table>\n",
       "<p>6724 rows × 1 columns</p>\n",
       "</div>"
      ],
      "text/plain": [
       "      16\n",
       "0      0\n",
       "1      0\n",
       "2      0\n",
       "3      0\n",
       "4      0\n",
       "...   ..\n",
       "6719   0\n",
       "6720   0\n",
       "6721   0\n",
       "6722   0\n",
       "6723   0\n",
       "\n",
       "[6724 rows x 1 columns]"
      ]
     },
     "execution_count": 6,
     "metadata": {},
     "output_type": "execute_result"
    }
   ],
   "source": [
    "y = shuffled_df.iloc[:,-1]\n",
    "y = pd.DataFrame(y.replace({'o':1, 'n':0}))\n",
    "y"
   ]
  },
  {
   "cell_type": "markdown",
   "metadata": {},
   "source": [
    "ECOD"
   ]
  },
  {
   "cell_type": "code",
   "execution_count": 7,
   "metadata": {},
   "outputs": [
    {
     "data": {
      "text/plain": [
       "ECOD(contamination=0.1, n_jobs=1)"
      ]
     },
     "execution_count": 7,
     "metadata": {},
     "output_type": "execute_result"
    }
   ],
   "source": [
    "ecod = ECOD()\n",
    "ecod.fit(df)"
   ]
  },
  {
   "cell_type": "code",
   "execution_count": 8,
   "metadata": {},
   "outputs": [],
   "source": [
    "ecod_score = ecod.decision_function(df)"
   ]
  },
  {
   "cell_type": "code",
   "execution_count": 9,
   "metadata": {},
   "outputs": [
    {
     "data": {
      "text/plain": [
       "array([20.59518573, 20.88607842, 26.19661282, ..., 24.28930502,\n",
       "       23.15891133, 25.88948729])"
      ]
     },
     "execution_count": 9,
     "metadata": {},
     "output_type": "execute_result"
    }
   ],
   "source": [
    "ecod_score"
   ]
  },
  {
   "cell_type": "code",
   "execution_count": 10,
   "metadata": {},
   "outputs": [
    {
     "data": {
      "text/plain": [
       "array([0, 0, 0, ..., 0, 0, 0])"
      ]
     },
     "execution_count": 10,
     "metadata": {},
     "output_type": "execute_result"
    }
   ],
   "source": [
    "ecod_pred = ecod.predict(df)\n",
    "ecod_pred"
   ]
  },
  {
   "cell_type": "code",
   "execution_count": 11,
   "metadata": {},
   "outputs": [
    {
     "data": {
      "text/plain": [
       "0.8984235574063058"
      ]
     },
     "execution_count": 11,
     "metadata": {},
     "output_type": "execute_result"
    }
   ],
   "source": [
    "ecod_acc = accuracy_score(y, ecod_pred)\n",
    "ecod_acc"
   ]
  },
  {
   "cell_type": "code",
   "execution_count": 12,
   "metadata": {},
   "outputs": [
    {
     "name": "stdout",
     "output_type": "stream",
     "text": [
      "0.5342716711349419\n"
     ]
    },
    {
     "data": {
      "image/png": "[encoded data removed]",
      "text/plain": [
       "<Figure size 800x600 with 1 Axes>"
      ]
     },
     "metadata": {},
     "output_type": "display_data"
    }
   ],
   "source": [
    "ecod_fpr, ecod_tpr, ecod_thresholds = roc_curve(y, ecod_score)\n",
    "roc_auc = auc(ecod_fpr, ecod_tpr)\n",
    "print(roc_auc)\n",
    "# Plot the ROC curve\n",
    "plt.figure(figsize=(8, 6))\n",
    "plt.plot(ecod_fpr, ecod_tpr, color='darkorange', lw=2, label='ROC curve (area = %0.2f)' % roc_auc)\n",
    "plt.plot([0, 1], [0, 1], color='navy', lw=2, linestyle='--')  # Diagonal line\n",
    "plt.xlim([0.0, 1.0])\n",
    "plt.ylim([0.0, 1.05])\n",
    "plt.xlabel('False Positive Rate')\n",
    "plt.ylabel('True Positive Rate')\n",
    "plt.title('ECOD ROC')\n",
    "plt.legend(loc='lower right')\n",
    "plt.show()"
   ]
  },
  {
   "cell_type": "markdown",
   "metadata": {},
   "source": [
    "LUNAR"
   ]
  },
  {
   "cell_type": "code",
   "execution_count": 13,
   "metadata": {},
   "outputs": [
    {
     "data": {
      "text/plain": [
       "LUNAR(contamination=0.1, epsilon=0.1, lr=0.001, model_type='WEIGHT',\n",
       "   n_epochs=200, n_neighbours=5, negative_sampling='MIXED', proportion=1.0,\n",
       "   scaler=MinMaxScaler(), val_size=0.1, verbose=0, wd=0.1)"
      ]
     },
     "execution_count": 13,
     "metadata": {},
     "output_type": "execute_result"
    }
   ],
   "source": [
    "lunar = LUNAR()\n",
    "lunar.fit(df)"
   ]
  },
  {
   "cell_type": "code",
   "execution_count": 14,
   "metadata": {},
   "outputs": [
    {
     "data": {
      "text/plain": [
       "array([-0.18689406, -0.6355363 ,  0.31147754, ..., -0.02293456,\n",
       "        1.1473999 ,  0.84120274], dtype=float32)"
      ]
     },
     "execution_count": 14,
     "metadata": {},
     "output_type": "execute_result"
    }
   ],
   "source": [
    "lunar_score = lunar.decision_function(df)\n",
    "lunar_score"
   ]
  },
  {
   "cell_type": "code",
   "execution_count": 15,
   "metadata": {},
   "outputs": [
    {
     "data": {
      "text/plain": [
       "array([0, 0, 0, ..., 0, 1, 1])"
      ]
     },
     "execution_count": 15,
     "metadata": {},
     "output_type": "execute_result"
    }
   ],
   "source": [
    "lunar_pred = lunar.predict(df)\n",
    "lunar_pred"
   ]
  },
  {
   "cell_type": "code",
   "execution_count": 16,
   "metadata": {},
   "outputs": [
    {
     "data": {
      "text/plain": [
       "0.9013979773944081"
      ]
     },
     "execution_count": 16,
     "metadata": {},
     "output_type": "execute_result"
    }
   ],
   "source": [
    "lunar_acc = accuracy_score(y,lunar_pred)\n",
    "lunar_acc"
   ]
  },
  {
   "cell_type": "code",
   "execution_count": 17,
   "metadata": {},
   "outputs": [
    {
     "name": "stdout",
     "output_type": "stream",
     "text": [
      "0.9526064938933572\n"
     ]
    },
    {
     "data": {
      "image/png": "[encoded data removed]",
      "text/plain": [
       "<Figure size 800x600 with 1 Axes>"
      ]
     },
     "metadata": {},
     "output_type": "display_data"
    }
   ],
   "source": [
    "lunar_fpr, lunar_tpr, lunar_thresholds = roc_curve(y, lunar_score)\n",
    "roc_auc = auc(lunar_fpr, lunar_tpr)\n",
    "print(roc_auc)\n",
    "# Plot the ROC curve\n",
    "plt.figure(figsize=(8, 6))\n",
    "plt.plot(lunar_fpr, lunar_tpr, color='darkorange', lw=2, label='ROC curve (area = %0.2f)' % roc_auc)\n",
    "plt.plot([0, 1], [0, 1], color='navy', lw=2, linestyle='--')  # Diagonal line\n",
    "plt.xlim([0.0, 1.0])\n",
    "plt.ylim([0.0, 1.05])\n",
    "plt.xlabel('False Positive Rate')\n",
    "plt.ylabel('True Positive Rate')\n",
    "plt.title('LUNAR ROC')\n",
    "plt.legend(loc='lower right')\n",
    "plt.show()"
   ]
  },
  {
   "cell_type": "code",
   "execution_count": 18,
   "metadata": {},
   "outputs": [
    {
     "data": {
      "text/html": [
       "<div>\n",
       "<style scoped>\n",
       "    .dataframe tbody tr th:only-of-type {\n",
       "        vertical-align: middle;\n",
       "    }\n",
       "\n",
       "    .dataframe tbody tr th {\n",
       "        vertical-align: top;\n",
       "    }\n",
       "\n",
       "    .dataframe thead th {\n",
       "        text-align: right;\n",
       "    }\n",
       "</style>\n",
       "<table border=\"1\" class=\"dataframe\">\n",
       "  <thead>\n",
       "    <tr style=\"text-align: right;\">\n",
       "      <th></th>\n",
       "      <th>lunar_score</th>\n",
       "      <th>ecod_score</th>\n",
       "      <th>y</th>\n",
       "    </tr>\n",
       "  </thead>\n",
       "  <tbody>\n",
       "    <tr>\n",
       "      <th>0</th>\n",
       "      <td>-0.186894</td>\n",
       "      <td>20.595186</td>\n",
       "      <td>0</td>\n",
       "    </tr>\n",
       "    <tr>\n",
       "      <th>1</th>\n",
       "      <td>-0.635536</td>\n",
       "      <td>20.886078</td>\n",
       "      <td>0</td>\n",
       "    </tr>\n",
       "    <tr>\n",
       "      <th>2</th>\n",
       "      <td>0.311478</td>\n",
       "      <td>26.196613</td>\n",
       "      <td>0</td>\n",
       "    </tr>\n",
       "    <tr>\n",
       "      <th>3</th>\n",
       "      <td>0.645933</td>\n",
       "      <td>20.608680</td>\n",
       "      <td>0</td>\n",
       "    </tr>\n",
       "    <tr>\n",
       "      <th>4</th>\n",
       "      <td>0.009432</td>\n",
       "      <td>21.759570</td>\n",
       "      <td>0</td>\n",
       "    </tr>\n",
       "    <tr>\n",
       "      <th>...</th>\n",
       "      <td>...</td>\n",
       "      <td>...</td>\n",
       "      <td>...</td>\n",
       "    </tr>\n",
       "    <tr>\n",
       "      <th>6719</th>\n",
       "      <td>-0.287234</td>\n",
       "      <td>19.790760</td>\n",
       "      <td>0</td>\n",
       "    </tr>\n",
       "    <tr>\n",
       "      <th>6720</th>\n",
       "      <td>-0.176903</td>\n",
       "      <td>19.749610</td>\n",
       "      <td>0</td>\n",
       "    </tr>\n",
       "    <tr>\n",
       "      <th>6721</th>\n",
       "      <td>-0.022935</td>\n",
       "      <td>24.289305</td>\n",
       "      <td>0</td>\n",
       "    </tr>\n",
       "    <tr>\n",
       "      <th>6722</th>\n",
       "      <td>1.147400</td>\n",
       "      <td>23.158911</td>\n",
       "      <td>0</td>\n",
       "    </tr>\n",
       "    <tr>\n",
       "      <th>6723</th>\n",
       "      <td>0.841203</td>\n",
       "      <td>25.889487</td>\n",
       "      <td>0</td>\n",
       "    </tr>\n",
       "  </tbody>\n",
       "</table>\n",
       "<p>6724 rows × 3 columns</p>\n",
       "</div>"
      ],
      "text/plain": [
       "      lunar_score  ecod_score  y\n",
       "0       -0.186894   20.595186  0\n",
       "1       -0.635536   20.886078  0\n",
       "2        0.311478   26.196613  0\n",
       "3        0.645933   20.608680  0\n",
       "4        0.009432   21.759570  0\n",
       "...           ...         ... ..\n",
       "6719    -0.287234   19.790760  0\n",
       "6720    -0.176903   19.749610  0\n",
       "6721    -0.022935   24.289305  0\n",
       "6722     1.147400   23.158911  0\n",
       "6723     0.841203   25.889487  0\n",
       "\n",
       "[6724 rows x 3 columns]"
      ]
     },
     "execution_count": 18,
     "metadata": {},
     "output_type": "execute_result"
    }
   ],
   "source": [
    "y_array = y.values.ravel()\n",
    "\n",
    "score_df = pd.DataFrame({'lunar_score': lunar_score, 'ecod_score': ecod_score, 'y': y_array})\n",
    "score_df"
   ]
  },
  {
   "cell_type": "code",
   "execution_count": 19,
   "metadata": {},
   "outputs": [],
   "source": [
    "x = score_df[['lunar_score', 'ecod_score']]\n",
    "y = score_df['y']"
   ]
  },
  {
   "cell_type": "code",
   "execution_count": 20,
   "metadata": {},
   "outputs": [
    {
     "data": {
      "text/html": [
       "<style>#sk-container-id-1 {color: black;}#sk-container-id-1 pre{padding: 0;}#sk-container-id-1 div.sk-toggleable {background-color: white;}#sk-container-id-1 label.sk-toggleable__label {cursor: pointer;display: block;width: 100%;margin-bottom: 0;padding: 0.3em;box-sizing: border-box;text-align: center;}#sk-container-id-1 label.sk-toggleable__label-arrow:before {content: \"▸\";float: left;margin-right: 0.25em;color: #696969;}#sk-container-id-1 label.sk-toggleable__label-arrow:hover:before {color: black;}#sk-container-id-1 div.sk-estimator:hover label.sk-toggleable__label-arrow:before {color: black;}#sk-container-id-1 div.sk-toggleable__content {max-height: 0;max-width: 0;overflow: hidden;text-align: left;background-color: #f0f8ff;}#sk-container-id-1 div.sk-toggleable__content pre {margin: 0.2em;color: black;border-radius: 0.25em;background-color: #f0f8ff;}#sk-container-id-1 input.sk-toggleable__control:checked~div.sk-toggleable__content {max-height: 200px;max-width: 100%;overflow: auto;}#sk-container-id-1 input.sk-toggleable__control:checked~label.sk-toggleable__label-arrow:before {content: \"▾\";}#sk-container-id-1 div.sk-estimator input.sk-toggleable__control:checked~label.sk-toggleable__label {background-color: #d4ebff;}#sk-container-id-1 div.sk-label input.sk-toggleable__control:checked~label.sk-toggleable__label {background-color: #d4ebff;}#sk-container-id-1 input.sk-hidden--visually {border: 0;clip: rect(1px 1px 1px 1px);clip: rect(1px, 1px, 1px, 1px);height: 1px;margin: -1px;overflow: hidden;padding: 0;position: absolute;width: 1px;}#sk-container-id-1 div.sk-estimator {font-family: monospace;background-color: #f0f8ff;border: 1px dotted black;border-radius: 0.25em;box-sizing: border-box;margin-bottom: 0.5em;}#sk-container-id-1 div.sk-estimator:hover {background-color: #d4ebff;}#sk-container-id-1 div.sk-parallel-item::after {content: \"\";width: 100%;border-bottom: 1px solid gray;flex-grow: 1;}#sk-container-id-1 div.sk-label:hover label.sk-toggleable__label {background-color: #d4ebff;}#sk-container-id-1 div.sk-serial::before {content: \"\";position: absolute;border-left: 1px solid gray;box-sizing: border-box;top: 0;bottom: 0;left: 50%;z-index: 0;}#sk-container-id-1 div.sk-serial {display: flex;flex-direction: column;align-items: center;background-color: white;padding-right: 0.2em;padding-left: 0.2em;position: relative;}#sk-container-id-1 div.sk-item {position: relative;z-index: 1;}#sk-container-id-1 div.sk-parallel {display: flex;align-items: stretch;justify-content: center;background-color: white;position: relative;}#sk-container-id-1 div.sk-item::before, #sk-container-id-1 div.sk-parallel-item::before {content: \"\";position: absolute;border-left: 1px solid gray;box-sizing: border-box;top: 0;bottom: 0;left: 50%;z-index: -1;}#sk-container-id-1 div.sk-parallel-item {display: flex;flex-direction: column;z-index: 1;position: relative;background-color: white;}#sk-container-id-1 div.sk-parallel-item:first-child::after {align-self: flex-end;width: 50%;}#sk-container-id-1 div.sk-parallel-item:last-child::after {align-self: flex-start;width: 50%;}#sk-container-id-1 div.sk-parallel-item:only-child::after {width: 0;}#sk-container-id-1 div.sk-dashed-wrapped {border: 1px dashed gray;margin: 0 0.4em 0.5em 0.4em;box-sizing: border-box;padding-bottom: 0.4em;background-color: white;}#sk-container-id-1 div.sk-label label {font-family: monospace;font-weight: bold;display: inline-block;line-height: 1.2em;}#sk-container-id-1 div.sk-label-container {text-align: center;}#sk-container-id-1 div.sk-container {/* jupyter's `normalize.less` sets `[hidden] { display: none; }` but bootstrap.min.css set `[hidden] { display: none !important; }` so we also need the `!important` here to be able to override the default hidden behavior on the sphinx rendered scikit-learn.org. See: https://github.com/scikit-learn/scikit-learn/issues/21755 */display: inline-block !important;position: relative;}#sk-container-id-1 div.sk-text-repr-fallback {display: none;}</style><div id=\"sk-container-id-1\" class=\"sk-top-container\"><div class=\"sk-text-repr-fallback\"><pre>LogisticRegression(random_state=0, solver=&#x27;liblinear&#x27;)</pre><b>In a Jupyter environment, please rerun this cell to show the HTML representation or trust the notebook. <br />On GitHub, the HTML representation is unable to render, please try loading this page with nbviewer.org.</b></div><div class=\"sk-container\" hidden><div class=\"sk-item\"><div class=\"sk-estimator sk-toggleable\"><input class=\"sk-toggleable__control sk-hidden--visually\" id=\"sk-estimator-id-1\" type=\"checkbox\" checked><label for=\"sk-estimator-id-1\" class=\"sk-toggleable__label sk-toggleable__label-arrow\">LogisticRegression</label><div class=\"sk-toggleable__content\"><pre>LogisticRegression(random_state=0, solver=&#x27;liblinear&#x27;)</pre></div></div></div></div></div>"
      ],
      "text/plain": [
       "LogisticRegression(random_state=0, solver='liblinear')"
      ]
     },
     "execution_count": 20,
     "metadata": {},
     "output_type": "execute_result"
    }
   ],
   "source": [
    "from sklearn.linear_model import LogisticRegression\n",
    "\n",
    "x_train, x_test, y_train, y_test = train_test_split(x, y, test_size = 0.2, random_state = 0)\n",
    "# instantiate the model\n",
    "logreg = LogisticRegression(solver='liblinear', random_state=0)\n",
    "\n",
    "\n",
    "# fit the model\n",
    "logreg.fit(x_train, y_train)"
   ]
  },
  {
   "cell_type": "code",
   "execution_count": 21,
   "metadata": {},
   "outputs": [
    {
     "data": {
      "text/plain": [
       "array([0, 0, 0, ..., 0, 0, 0], dtype=int64)"
      ]
     },
     "execution_count": 21,
     "metadata": {},
     "output_type": "execute_result"
    }
   ],
   "source": [
    "y_pred_test = logreg.predict(x_test)\n",
    "\n",
    "y_pred_test"
   ]
  },
  {
   "cell_type": "code",
   "execution_count": 22,
   "metadata": {},
   "outputs": [
    {
     "name": "stdout",
     "output_type": "stream",
     "text": [
      "Model accuracy score: 0.9978\n"
     ]
    }
   ],
   "source": [
    "print('Model accuracy score: {0:0.4f}'. format(accuracy_score(y_test, y_pred_test)))"
   ]
  },
  {
   "cell_type": "code",
   "execution_count": 23,
   "metadata": {},
   "outputs": [
    {
     "name": "stdout",
     "output_type": "stream",
     "text": [
      "Training set score: 0.9987\n",
      "Test set score: 0.9978\n"
     ]
    }
   ],
   "source": [
    "print('Training set score: {:.4f}'.format(logreg.score(x_train, y_train)))\n",
    "\n",
    "print('Test set score: {:.4f}'.format(logreg.score(x_test, y_test)))"
   ]
  },
  {
   "cell_type": "code",
   "execution_count": 24,
   "metadata": {},
   "outputs": [],
   "source": [
    "from sklearn.model_selection import cross_val_score"
   ]
  },
  {
   "cell_type": "code",
   "execution_count": 25,
   "metadata": {},
   "outputs": [
    {
     "name": "stdout",
     "output_type": "stream",
     "text": [
      "Cross-Validation Scores: [0.99851301 0.99851301 0.99851301 0.99851301 0.9985119 ]\n",
      "Average Cross-Validation Score: 0.998512789874314\n"
     ]
    }
   ],
   "source": [
    "cv_scores = cross_val_score(logreg, x, y, cv=5)\n",
    "print(f'Cross-Validation Scores: {cv_scores}')\n",
    "print(f'Average Cross-Validation Score: {np.mean(cv_scores)}')\n"
   ]
  },
  {
   "cell_type": "code",
   "execution_count": 26,
   "metadata": {},
   "outputs": [
    {
     "name": "stdout",
     "output_type": "stream",
     "text": [
      "0.9372207327971404\n"
     ]
    },
    {
     "data": {
      "image/png": "[encoded data removed]",
      "text/plain": [
       "<Figure size 640x480 with 1 Axes>"
      ]
     },
     "metadata": {},
     "output_type": "display_data"
    }
   ],
   "source": [
    "from sklearn.metrics import roc_curve, auc\n",
    "import matplotlib.pyplot as plt\n",
    "# Get predicted probabilities for the test set\n",
    "y_prob = logreg.predict_proba(x)[:, 1]\n",
    "\n",
    "# Calculate ROC curve and AUC\n",
    "fpr, tpr, thresholds = roc_curve(y, y_prob)\n",
    "roc_auc = auc(fpr, tpr)\n",
    "roc_auc_ecod = auc(ecod_fpr, ecod_tpr)\n",
    "roc_auc_lunar = auc(lunar_fpr, lunar_tpr)\n",
    "print(roc_auc)\n",
    "# Plot ROC curve\n",
    "plt.figure()\n",
    "lw = 2\n",
    "plt.plot(fpr, tpr, color='darkorange',\n",
    "         lw=lw, label='ROC curve (area = %0.2f)' % roc_auc)\n",
    "plt.plot([0, 1], [0, 1], color='navy', lw=lw, linestyle='--')\n",
    "plt.plot(ecod_fpr, ecod_tpr, color='darkred', lw=2, label='ROC curve (area = %0.2f)' % roc_auc_ecod)\n",
    "plt.plot(lunar_fpr, lunar_tpr, color='darkblue', lw=2, label='ROC curve (area = %0.2f)' % roc_auc_lunar)\n",
    "\n",
    "\n",
    "plt.xlim([0.0, 1.0])\n",
    "plt.ylim([0.0, 1.05])\n",
    "plt.xlabel('False Positive Rate')\n",
    "plt.ylabel('True Positive Rate')\n",
    "plt.title('Receiver Operating Characteristic (ROC)')\n",
    "plt.legend(loc=\"lower right\")\n",
    "plt.show()"
   ]
  },
  {
   "cell_type": "code",
   "execution_count": 7,
   "metadata": {},
   "outputs": [
    {
     "name": "stdout",
     "output_type": "stream",
     "text": [
      "0.9009815585960738 0.8984235574063056 0.9977695167286246\n",
      "0.9538754840631516 0.5342716711349419 0.9296678582067323\n"
     ]
    }
   ],
   "source": [
    "lunar_accuracies = []\n",
    "ecod_accuracies = []\n",
    "ensemble_accuracies = []\n",
    "lunar_auc = []\n",
    "ecod_auc = []\n",
    "ensemble_auc = []\n",
    "\n",
    "for i in range (10):\n",
    "  lunar = LUNAR()\n",
    "  lunar.fit(df)\n",
    "  lunar_pred = lunar.predict(df)\n",
    "  lunar_scores = lunar.decision_function(df)\n",
    "  lunar_scores1 = lunar.decision_scores_\n",
    "  lunar_acc = accuracy_score(y,lunar_pred)\n",
    "  lunar_auc_scores = roc_auc_score(y, lunar_scores1)\n",
    "  ecod = ECOD()\n",
    "  ecod.fit(df)\n",
    "  ecod_pred = ecod.predict(df)\n",
    "  ecod_scores1 = ecod.decision_function(df)\n",
    "  ecod_scores = ecod.decision_function(df)\n",
    "  ecod_acc = accuracy_score(y,ecod_pred)\n",
    "  ecod_auc_scores = roc_auc_score(y, ecod_scores1)\n",
    "\n",
    "  y_array = y.values.ravel()\n",
    "\n",
    "  score_df = pd.DataFrame({'lunar_score': lunar_scores, 'ecod_score': ecod_scores, 'y': y_array})\n",
    "  score_df\n",
    "\n",
    "  x = score_df[['lunar_score', 'ecod_score']]\n",
    "  y = score_df['y']\n",
    "  \n",
    "  x_train, x_test, y_train, y_test = train_test_split(x, y, test_size = 0.2, random_state = 0)\n",
    "  logreg = LogisticRegression(solver='liblinear', random_state=0)\n",
    "  logreg.fit(x_train, y_train)\n",
    "  y_pred_test = logreg.predict(x_test)\n",
    "  \n",
    "  ensemble_acc = accuracy_score(y_test,y_pred_test)\n",
    "  y_prob = logreg.predict_proba(x)[:, 1]\n",
    "  fpr, tpr, thresholds = roc_curve(y, y_prob)\n",
    "  ensemble_auc_scores = auc(fpr, tpr)\n",
    "  \n",
    "  lunar_accuracies.append(lunar_acc)\n",
    "  ecod_accuracies.append(ecod_acc)\n",
    "  ensemble_accuracies.append(ensemble_acc)\n",
    "  lunar_auc.append(lunar_auc_scores)\n",
    "  ecod_auc.append(ecod_auc_scores)\n",
    "  ensemble_auc.append(ensemble_auc_scores)\n",
    "\n",
    "\n",
    "avg_lunar_acc = np.mean(lunar_accuracies)\n",
    "avg_ecod_acc = np.mean(ecod_accuracies)\n",
    "avg_ensemble_acc = np.mean(ensemble_accuracies)\n",
    "\n",
    "avg_lunar_auc = np.mean(lunar_auc)\n",
    "avg_ecod_auc = np.mean(ecod_auc)\n",
    "avg_ensemble_auc = np.mean(ensemble_auc)\n",
    "\n",
    "\n",
    "print(avg_lunar_acc,avg_ecod_acc,avg_ensemble_acc)\n",
    "\n",
    "print(avg_lunar_auc,avg_ecod_auc,avg_ensemble_auc)\n",
    "\n",
    "  "
   ]
  }
 ],
 "metadata": {
  "kernelspec": {
   "display_name": "base",
   "language": "python",
   "name": "python3"
  },
  "language_info": {
   "codemirror_mode": {
    "name": "ipython",
    "version": 3
   },
   "file_extension": ".py",
   "mimetype": "text/x-python",
   "name": "python",
   "nbconvert_exporter": "python",
   "pygments_lexer": "ipython3",
   "version": "3.11.5"
  }
 },
 "nbformat": 4,
 "nbformat_minor": 2
}
