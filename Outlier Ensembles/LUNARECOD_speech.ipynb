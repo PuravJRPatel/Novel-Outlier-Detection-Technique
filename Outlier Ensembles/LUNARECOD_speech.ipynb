{
 "cells": [
  {
   "cell_type": "code",
   "execution_count": 1,
   "metadata": {},
   "outputs": [],
   "source": [
    "import pandas as pd\n",
    "import numpy as np\n",
    "import matplotlib.pyplot as plt\n",
    "import seaborn as sns\n",
    "import warnings\n",
    "warnings.filterwarnings('ignore')\n",
    "from pyod.models.ecod import ECOD \n",
    "from pyod.models.lunar import LUNAR\n",
    "from sklearn.model_selection import train_test_split\n",
    "from sklearn.metrics import accuracy_score, confusion_matrix, classification_report\n",
    "from sklearn.linear_model import LogisticRegression\n",
    "from sklearn.preprocessing import StandardScaler\n",
    "from sklearn.metrics import roc_curve, auc\n",
    "from sklearn.metrics import roc_auc_score"
   ]
  },
  {
   "cell_type": "code",
   "execution_count": 2,
   "metadata": {},
   "outputs": [],
   "source": [
    "speech = pd.read_csv(r\"C:\\Users\\purav\\OneDrive\\Desktop\\Comparative Evaluation of Anomaly Detection Algorithms\\Comparative-Evaluation-of-Anomaly-Detection-Algorithms\\Datasets\\speech-unsupervised-ad.csv\", header = None)"
   ]
  },
  {
   "cell_type": "code",
   "execution_count": 3,
   "metadata": {},
   "outputs": [
    {
     "data": {
      "text/html": [
       "<div>\n",
       "<style scoped>\n",
       "    .dataframe tbody tr th:only-of-type {\n",
       "        vertical-align: middle;\n",
       "    }\n",
       "\n",
       "    .dataframe tbody tr th {\n",
       "        vertical-align: top;\n",
       "    }\n",
       "\n",
       "    .dataframe thead th {\n",
       "        text-align: right;\n",
       "    }\n",
       "</style>\n",
       "<table border=\"1\" class=\"dataframe\">\n",
       "  <thead>\n",
       "    <tr style=\"text-align: right;\">\n",
       "      <th></th>\n",
       "      <th>0</th>\n",
       "      <th>1</th>\n",
       "      <th>2</th>\n",
       "      <th>3</th>\n",
       "      <th>4</th>\n",
       "      <th>5</th>\n",
       "      <th>6</th>\n",
       "      <th>7</th>\n",
       "      <th>8</th>\n",
       "      <th>9</th>\n",
       "      <th>...</th>\n",
       "      <th>391</th>\n",
       "      <th>392</th>\n",
       "      <th>393</th>\n",
       "      <th>394</th>\n",
       "      <th>395</th>\n",
       "      <th>396</th>\n",
       "      <th>397</th>\n",
       "      <th>398</th>\n",
       "      <th>399</th>\n",
       "      <th>400</th>\n",
       "    </tr>\n",
       "  </thead>\n",
       "  <tbody>\n",
       "    <tr>\n",
       "      <th>0</th>\n",
       "      <td>-0.35069</td>\n",
       "      <td>0.52721</td>\n",
       "      <td>-1.62470</td>\n",
       "      <td>-1.334000</td>\n",
       "      <td>-1.03020</td>\n",
       "      <td>1.247500</td>\n",
       "      <td>-0.98067</td>\n",
       "      <td>-1.558700</td>\n",
       "      <td>-0.061233</td>\n",
       "      <td>1.048200</td>\n",
       "      <td>...</td>\n",
       "      <td>0.570960</td>\n",
       "      <td>-1.19840</td>\n",
       "      <td>2.168600</td>\n",
       "      <td>-0.30353</td>\n",
       "      <td>1.21620</td>\n",
       "      <td>-0.607070</td>\n",
       "      <td>0.503820</td>\n",
       "      <td>-0.45571</td>\n",
       "      <td>0.86283</td>\n",
       "      <td>o</td>\n",
       "    </tr>\n",
       "    <tr>\n",
       "      <th>1</th>\n",
       "      <td>-0.42537</td>\n",
       "      <td>-0.08818</td>\n",
       "      <td>0.84575</td>\n",
       "      <td>0.881570</td>\n",
       "      <td>1.35690</td>\n",
       "      <td>0.748940</td>\n",
       "      <td>-1.68620</td>\n",
       "      <td>0.461510</td>\n",
       "      <td>0.585700</td>\n",
       "      <td>0.775950</td>\n",
       "      <td>...</td>\n",
       "      <td>-0.582980</td>\n",
       "      <td>-0.35666</td>\n",
       "      <td>-0.638000</td>\n",
       "      <td>0.64106</td>\n",
       "      <td>-0.94488</td>\n",
       "      <td>-1.069700</td>\n",
       "      <td>-0.024029</td>\n",
       "      <td>0.28696</td>\n",
       "      <td>-0.12374</td>\n",
       "      <td>o</td>\n",
       "    </tr>\n",
       "    <tr>\n",
       "      <th>2</th>\n",
       "      <td>-1.22100</td>\n",
       "      <td>0.43960</td>\n",
       "      <td>-0.06303</td>\n",
       "      <td>0.709530</td>\n",
       "      <td>0.95079</td>\n",
       "      <td>-0.218740</td>\n",
       "      <td>-1.24850</td>\n",
       "      <td>-1.628600</td>\n",
       "      <td>-1.339700</td>\n",
       "      <td>-1.858500</td>\n",
       "      <td>...</td>\n",
       "      <td>-0.042742</td>\n",
       "      <td>2.77110</td>\n",
       "      <td>1.549400</td>\n",
       "      <td>-1.75680</td>\n",
       "      <td>-0.91595</td>\n",
       "      <td>-0.078469</td>\n",
       "      <td>0.097137</td>\n",
       "      <td>-0.55111</td>\n",
       "      <td>0.69951</td>\n",
       "      <td>o</td>\n",
       "    </tr>\n",
       "    <tr>\n",
       "      <th>3</th>\n",
       "      <td>-0.30132</td>\n",
       "      <td>0.55221</td>\n",
       "      <td>0.13769</td>\n",
       "      <td>0.715290</td>\n",
       "      <td>0.99311</td>\n",
       "      <td>-0.169590</td>\n",
       "      <td>-0.93405</td>\n",
       "      <td>-0.948250</td>\n",
       "      <td>-0.750880</td>\n",
       "      <td>0.003107</td>\n",
       "      <td>...</td>\n",
       "      <td>-0.103520</td>\n",
       "      <td>2.53710</td>\n",
       "      <td>2.096000</td>\n",
       "      <td>-1.43680</td>\n",
       "      <td>-1.05230</td>\n",
       "      <td>-0.070276</td>\n",
       "      <td>-0.539810</td>\n",
       "      <td>-1.10380</td>\n",
       "      <td>0.70562</td>\n",
       "      <td>o</td>\n",
       "    </tr>\n",
       "    <tr>\n",
       "      <th>4</th>\n",
       "      <td>0.31292</td>\n",
       "      <td>0.42762</td>\n",
       "      <td>0.50348</td>\n",
       "      <td>0.005489</td>\n",
       "      <td>-0.94274</td>\n",
       "      <td>-0.176190</td>\n",
       "      <td>-0.50775</td>\n",
       "      <td>-0.464450</td>\n",
       "      <td>0.694750</td>\n",
       "      <td>0.376040</td>\n",
       "      <td>...</td>\n",
       "      <td>1.060700</td>\n",
       "      <td>1.39660</td>\n",
       "      <td>0.096776</td>\n",
       "      <td>-1.18360</td>\n",
       "      <td>-0.37802</td>\n",
       "      <td>0.357150</td>\n",
       "      <td>1.278600</td>\n",
       "      <td>-0.40139</td>\n",
       "      <td>0.11640</td>\n",
       "      <td>o</td>\n",
       "    </tr>\n",
       "    <tr>\n",
       "      <th>...</th>\n",
       "      <td>...</td>\n",
       "      <td>...</td>\n",
       "      <td>...</td>\n",
       "      <td>...</td>\n",
       "      <td>...</td>\n",
       "      <td>...</td>\n",
       "      <td>...</td>\n",
       "      <td>...</td>\n",
       "      <td>...</td>\n",
       "      <td>...</td>\n",
       "      <td>...</td>\n",
       "      <td>...</td>\n",
       "      <td>...</td>\n",
       "      <td>...</td>\n",
       "      <td>...</td>\n",
       "      <td>...</td>\n",
       "      <td>...</td>\n",
       "      <td>...</td>\n",
       "      <td>...</td>\n",
       "      <td>...</td>\n",
       "      <td>...</td>\n",
       "    </tr>\n",
       "    <tr>\n",
       "      <th>3681</th>\n",
       "      <td>-0.73029</td>\n",
       "      <td>0.41857</td>\n",
       "      <td>-0.41746</td>\n",
       "      <td>-0.454210</td>\n",
       "      <td>0.71168</td>\n",
       "      <td>-0.052522</td>\n",
       "      <td>-1.86610</td>\n",
       "      <td>0.220370</td>\n",
       "      <td>0.488910</td>\n",
       "      <td>-2.072700</td>\n",
       "      <td>...</td>\n",
       "      <td>-0.586100</td>\n",
       "      <td>1.47180</td>\n",
       "      <td>0.263640</td>\n",
       "      <td>-0.68870</td>\n",
       "      <td>-1.10260</td>\n",
       "      <td>0.467970</td>\n",
       "      <td>0.481060</td>\n",
       "      <td>-0.29457</td>\n",
       "      <td>0.55751</td>\n",
       "      <td>n</td>\n",
       "    </tr>\n",
       "    <tr>\n",
       "      <th>3682</th>\n",
       "      <td>-0.29375</td>\n",
       "      <td>1.46840</td>\n",
       "      <td>-0.28178</td>\n",
       "      <td>-1.411000</td>\n",
       "      <td>-0.91399</td>\n",
       "      <td>1.427700</td>\n",
       "      <td>0.68553</td>\n",
       "      <td>-0.549750</td>\n",
       "      <td>0.025032</td>\n",
       "      <td>0.857950</td>\n",
       "      <td>...</td>\n",
       "      <td>0.575650</td>\n",
       "      <td>0.58935</td>\n",
       "      <td>2.316300</td>\n",
       "      <td>1.00600</td>\n",
       "      <td>-0.15520</td>\n",
       "      <td>-0.343240</td>\n",
       "      <td>-0.023543</td>\n",
       "      <td>-1.57520</td>\n",
       "      <td>-0.37716</td>\n",
       "      <td>n</td>\n",
       "    </tr>\n",
       "    <tr>\n",
       "      <th>3683</th>\n",
       "      <td>0.94843</td>\n",
       "      <td>0.35538</td>\n",
       "      <td>-1.04010</td>\n",
       "      <td>0.292630</td>\n",
       "      <td>0.17207</td>\n",
       "      <td>-0.549300</td>\n",
       "      <td>-2.22700</td>\n",
       "      <td>0.111300</td>\n",
       "      <td>0.403860</td>\n",
       "      <td>0.000354</td>\n",
       "      <td>...</td>\n",
       "      <td>0.544540</td>\n",
       "      <td>2.01170</td>\n",
       "      <td>0.584910</td>\n",
       "      <td>-0.43648</td>\n",
       "      <td>-0.11118</td>\n",
       "      <td>0.197870</td>\n",
       "      <td>0.189580</td>\n",
       "      <td>1.04610</td>\n",
       "      <td>-0.30757</td>\n",
       "      <td>n</td>\n",
       "    </tr>\n",
       "    <tr>\n",
       "      <th>3684</th>\n",
       "      <td>1.49800</td>\n",
       "      <td>-0.66785</td>\n",
       "      <td>1.04800</td>\n",
       "      <td>-1.569300</td>\n",
       "      <td>-0.65241</td>\n",
       "      <td>1.957500</td>\n",
       "      <td>0.45265</td>\n",
       "      <td>0.807050</td>\n",
       "      <td>0.601570</td>\n",
       "      <td>0.813750</td>\n",
       "      <td>...</td>\n",
       "      <td>-0.453780</td>\n",
       "      <td>-0.29842</td>\n",
       "      <td>-0.641800</td>\n",
       "      <td>0.49518</td>\n",
       "      <td>-2.56460</td>\n",
       "      <td>-0.708690</td>\n",
       "      <td>0.369670</td>\n",
       "      <td>-0.49249</td>\n",
       "      <td>-0.40257</td>\n",
       "      <td>n</td>\n",
       "    </tr>\n",
       "    <tr>\n",
       "      <th>3685</th>\n",
       "      <td>-0.85682</td>\n",
       "      <td>-1.45620</td>\n",
       "      <td>-0.19547</td>\n",
       "      <td>-0.110290</td>\n",
       "      <td>0.70799</td>\n",
       "      <td>-0.112270</td>\n",
       "      <td>-0.72447</td>\n",
       "      <td>-0.045491</td>\n",
       "      <td>-1.027000</td>\n",
       "      <td>0.685080</td>\n",
       "      <td>...</td>\n",
       "      <td>-1.103400</td>\n",
       "      <td>1.19320</td>\n",
       "      <td>1.955600</td>\n",
       "      <td>0.43227</td>\n",
       "      <td>0.50992</td>\n",
       "      <td>1.190900</td>\n",
       "      <td>0.487540</td>\n",
       "      <td>-0.14660</td>\n",
       "      <td>-0.76304</td>\n",
       "      <td>n</td>\n",
       "    </tr>\n",
       "  </tbody>\n",
       "</table>\n",
       "<p>3686 rows × 401 columns</p>\n",
       "</div>"
      ],
      "text/plain": [
       "          0        1        2         3        4         5        6    \\\n",
       "0    -0.35069  0.52721 -1.62470 -1.334000 -1.03020  1.247500 -0.98067   \n",
       "1    -0.42537 -0.08818  0.84575  0.881570  1.35690  0.748940 -1.68620   \n",
       "2    -1.22100  0.43960 -0.06303  0.709530  0.95079 -0.218740 -1.24850   \n",
       "3    -0.30132  0.55221  0.13769  0.715290  0.99311 -0.169590 -0.93405   \n",
       "4     0.31292  0.42762  0.50348  0.005489 -0.94274 -0.176190 -0.50775   \n",
       "...       ...      ...      ...       ...      ...       ...      ...   \n",
       "3681 -0.73029  0.41857 -0.41746 -0.454210  0.71168 -0.052522 -1.86610   \n",
       "3682 -0.29375  1.46840 -0.28178 -1.411000 -0.91399  1.427700  0.68553   \n",
       "3683  0.94843  0.35538 -1.04010  0.292630  0.17207 -0.549300 -2.22700   \n",
       "3684  1.49800 -0.66785  1.04800 -1.569300 -0.65241  1.957500  0.45265   \n",
       "3685 -0.85682 -1.45620 -0.19547 -0.110290  0.70799 -0.112270 -0.72447   \n",
       "\n",
       "           7         8         9    ...       391      392       393      394  \\\n",
       "0    -1.558700 -0.061233  1.048200  ...  0.570960 -1.19840  2.168600 -0.30353   \n",
       "1     0.461510  0.585700  0.775950  ... -0.582980 -0.35666 -0.638000  0.64106   \n",
       "2    -1.628600 -1.339700 -1.858500  ... -0.042742  2.77110  1.549400 -1.75680   \n",
       "3    -0.948250 -0.750880  0.003107  ... -0.103520  2.53710  2.096000 -1.43680   \n",
       "4    -0.464450  0.694750  0.376040  ...  1.060700  1.39660  0.096776 -1.18360   \n",
       "...        ...       ...       ...  ...       ...      ...       ...      ...   \n",
       "3681  0.220370  0.488910 -2.072700  ... -0.586100  1.47180  0.263640 -0.68870   \n",
       "3682 -0.549750  0.025032  0.857950  ...  0.575650  0.58935  2.316300  1.00600   \n",
       "3683  0.111300  0.403860  0.000354  ...  0.544540  2.01170  0.584910 -0.43648   \n",
       "3684  0.807050  0.601570  0.813750  ... -0.453780 -0.29842 -0.641800  0.49518   \n",
       "3685 -0.045491 -1.027000  0.685080  ... -1.103400  1.19320  1.955600  0.43227   \n",
       "\n",
       "          395       396       397      398      399  400  \n",
       "0     1.21620 -0.607070  0.503820 -0.45571  0.86283    o  \n",
       "1    -0.94488 -1.069700 -0.024029  0.28696 -0.12374    o  \n",
       "2    -0.91595 -0.078469  0.097137 -0.55111  0.69951    o  \n",
       "3    -1.05230 -0.070276 -0.539810 -1.10380  0.70562    o  \n",
       "4    -0.37802  0.357150  1.278600 -0.40139  0.11640    o  \n",
       "...       ...       ...       ...      ...      ...  ...  \n",
       "3681 -1.10260  0.467970  0.481060 -0.29457  0.55751    n  \n",
       "3682 -0.15520 -0.343240 -0.023543 -1.57520 -0.37716    n  \n",
       "3683 -0.11118  0.197870  0.189580  1.04610 -0.30757    n  \n",
       "3684 -2.56460 -0.708690  0.369670 -0.49249 -0.40257    n  \n",
       "3685  0.50992  1.190900  0.487540 -0.14660 -0.76304    n  \n",
       "\n",
       "[3686 rows x 401 columns]"
      ]
     },
     "execution_count": 3,
     "metadata": {},
     "output_type": "execute_result"
    }
   ],
   "source": [
    "speech"
   ]
  },
  {
   "cell_type": "code",
   "execution_count": 4,
   "metadata": {},
   "outputs": [],
   "source": [
    "shuffled_df = speech.sample(frac=1).reset_index(drop=True)\n",
    "shuffled_df\n",
    "\n",
    "\n",
    "df = pd.DataFrame(shuffled_df.iloc[:, :-1].values)\n",
    "from sklearn.preprocessing import StandardScaler\n",
    "\n",
    "ss = StandardScaler()\n",
    "df = pd.DataFrame(ss.fit_transform(df))\n",
    "\n"
   ]
  },
  {
   "cell_type": "code",
   "execution_count": 5,
   "metadata": {},
   "outputs": [
    {
     "data": {
      "text/html": [
       "<div>\n",
       "<style scoped>\n",
       "    .dataframe tbody tr th:only-of-type {\n",
       "        vertical-align: middle;\n",
       "    }\n",
       "\n",
       "    .dataframe tbody tr th {\n",
       "        vertical-align: top;\n",
       "    }\n",
       "\n",
       "    .dataframe thead th {\n",
       "        text-align: right;\n",
       "    }\n",
       "</style>\n",
       "<table border=\"1\" class=\"dataframe\">\n",
       "  <thead>\n",
       "    <tr style=\"text-align: right;\">\n",
       "      <th></th>\n",
       "      <th>400</th>\n",
       "    </tr>\n",
       "  </thead>\n",
       "  <tbody>\n",
       "    <tr>\n",
       "      <th>0</th>\n",
       "      <td>0</td>\n",
       "    </tr>\n",
       "    <tr>\n",
       "      <th>1</th>\n",
       "      <td>0</td>\n",
       "    </tr>\n",
       "    <tr>\n",
       "      <th>2</th>\n",
       "      <td>1</td>\n",
       "    </tr>\n",
       "    <tr>\n",
       "      <th>3</th>\n",
       "      <td>0</td>\n",
       "    </tr>\n",
       "    <tr>\n",
       "      <th>4</th>\n",
       "      <td>0</td>\n",
       "    </tr>\n",
       "    <tr>\n",
       "      <th>...</th>\n",
       "      <td>...</td>\n",
       "    </tr>\n",
       "    <tr>\n",
       "      <th>3681</th>\n",
       "      <td>0</td>\n",
       "    </tr>\n",
       "    <tr>\n",
       "      <th>3682</th>\n",
       "      <td>0</td>\n",
       "    </tr>\n",
       "    <tr>\n",
       "      <th>3683</th>\n",
       "      <td>0</td>\n",
       "    </tr>\n",
       "    <tr>\n",
       "      <th>3684</th>\n",
       "      <td>0</td>\n",
       "    </tr>\n",
       "    <tr>\n",
       "      <th>3685</th>\n",
       "      <td>0</td>\n",
       "    </tr>\n",
       "  </tbody>\n",
       "</table>\n",
       "<p>3686 rows × 1 columns</p>\n",
       "</div>"
      ],
      "text/plain": [
       "      400\n",
       "0       0\n",
       "1       0\n",
       "2       1\n",
       "3       0\n",
       "4       0\n",
       "...   ...\n",
       "3681    0\n",
       "3682    0\n",
       "3683    0\n",
       "3684    0\n",
       "3685    0\n",
       "\n",
       "[3686 rows x 1 columns]"
      ]
     },
     "execution_count": 5,
     "metadata": {},
     "output_type": "execute_result"
    }
   ],
   "source": [
    "y = shuffled_df.iloc[:,-1]\n",
    "y = pd.DataFrame(y.replace({'o':1, 'n':0}))\n",
    "y"
   ]
  },
  {
   "cell_type": "code",
   "execution_count": 6,
   "metadata": {},
   "outputs": [
    {
     "data": {
      "text/plain": [
       "ECOD(contamination=0.1, n_jobs=1)"
      ]
     },
     "execution_count": 6,
     "metadata": {},
     "output_type": "execute_result"
    }
   ],
   "source": [
    "ecod = ECOD()\n",
    "ecod.fit(df)"
   ]
  },
  {
   "cell_type": "code",
   "execution_count": 7,
   "metadata": {},
   "outputs": [],
   "source": [
    "ecod_score = ecod.decision_function(df)"
   ]
  },
  {
   "cell_type": "code",
   "execution_count": 8,
   "metadata": {},
   "outputs": [
    {
     "data": {
      "text/plain": [
       "array([675.91367587, 768.14545328, 727.67056463, ..., 578.67586929,\n",
       "       600.06591803, 694.91443333])"
      ]
     },
     "execution_count": 8,
     "metadata": {},
     "output_type": "execute_result"
    }
   ],
   "source": [
    "ecod_score"
   ]
  },
  {
   "cell_type": "code",
   "execution_count": 9,
   "metadata": {},
   "outputs": [
    {
     "data": {
      "text/plain": [
       "array([0, 1, 0, ..., 0, 0, 0])"
      ]
     },
     "execution_count": 9,
     "metadata": {},
     "output_type": "execute_result"
    }
   ],
   "source": [
    "ecod_pred = ecod.predict(df)\n",
    "ecod_pred"
   ]
  },
  {
   "cell_type": "code",
   "execution_count": 10,
   "metadata": {},
   "outputs": [
    {
     "data": {
      "text/plain": [
       "0.8871405317417255"
      ]
     },
     "execution_count": 10,
     "metadata": {},
     "output_type": "execute_result"
    }
   ],
   "source": [
    "ecod_acc = accuracy_score(y, ecod_pred)\n",
    "ecod_acc"
   ]
  },
  {
   "cell_type": "code",
   "execution_count": 11,
   "metadata": {},
   "outputs": [
    {
     "name": "stdout",
     "output_type": "stream",
     "text": [
      "0.4697117015262861\n"
     ]
    },
    {
     "data": {
      "image/png": "[encoded data removed]",
      "text/plain": [
       "<Figure size 800x600 with 1 Axes>"
      ]
     },
     "metadata": {},
     "output_type": "display_data"
    }
   ],
   "source": [
    "ecod_fpr, ecod_tpr, ecod_thresholds = roc_curve(y, ecod_score)\n",
    "roc_auc = auc(ecod_fpr, ecod_tpr)\n",
    "print(roc_auc)\n",
    "# Plot the ROC curve\n",
    "plt.figure(figsize=(8, 6))\n",
    "plt.plot(ecod_fpr, ecod_tpr, color='darkorange', lw=2, label='ROC curve (area = %0.2f)' % roc_auc)\n",
    "plt.plot([0, 1], [0, 1], color='navy', lw=2, linestyle='--')  # Diagonal line\n",
    "plt.xlim([0.0, 1.0])\n",
    "plt.ylim([0.0, 1.05])\n",
    "plt.xlabel('False Positive Rate')\n",
    "plt.ylabel('True Positive Rate')\n",
    "plt.title('ECOD ROC')\n",
    "plt.legend(loc='lower right')\n",
    "plt.show()"
   ]
  },
  {
   "cell_type": "code",
   "execution_count": 12,
   "metadata": {},
   "outputs": [
    {
     "data": {
      "text/plain": [
       "LUNAR(contamination=0.1, epsilon=0.1, lr=0.001, model_type='WEIGHT',\n",
       "   n_epochs=200, n_neighbours=5, negative_sampling='MIXED', proportion=1.0,\n",
       "   scaler=MinMaxScaler(), val_size=0.1, verbose=0, wd=0.1)"
      ]
     },
     "execution_count": 12,
     "metadata": {},
     "output_type": "execute_result"
    }
   ],
   "source": [
    "lunar = LUNAR()\n",
    "lunar.fit(df)"
   ]
  },
  {
   "cell_type": "code",
   "execution_count": 13,
   "metadata": {},
   "outputs": [
    {
     "data": {
      "text/plain": [
       "array([ 0.13011384,  0.28611207,  0.12407756, ..., -0.33094227,\n",
       "       -0.07144189, -0.59619665], dtype=float32)"
      ]
     },
     "execution_count": 13,
     "metadata": {},
     "output_type": "execute_result"
    }
   ],
   "source": [
    "lunar_score = lunar.decision_function(df)\n",
    "lunar_score"
   ]
  },
  {
   "cell_type": "code",
   "execution_count": 14,
   "metadata": {},
   "outputs": [
    {
     "data": {
      "text/plain": [
       "array([0, 1, 0, ..., 0, 0, 0])"
      ]
     },
     "execution_count": 14,
     "metadata": {},
     "output_type": "execute_result"
    }
   ],
   "source": [
    "lunar_pred = lunar.predict(df)\n",
    "lunar_pred"
   ]
  },
  {
   "cell_type": "code",
   "execution_count": 15,
   "metadata": {},
   "outputs": [
    {
     "data": {
      "text/plain": [
       "0.887683125339121"
      ]
     },
     "execution_count": 15,
     "metadata": {},
     "output_type": "execute_result"
    }
   ],
   "source": [
    "lunar_acc = accuracy_score(y,lunar_pred)\n",
    "lunar_acc"
   ]
  },
  {
   "cell_type": "code",
   "execution_count": 16,
   "metadata": {},
   "outputs": [
    {
     "name": "stdout",
     "output_type": "stream",
     "text": [
      "0.4790367439231204\n"
     ]
    },
    {
     "data": {
      "image/png": "[encoded data removed]",
      "text/plain": [
       "<Figure size 800x600 with 1 Axes>"
      ]
     },
     "metadata": {},
     "output_type": "display_data"
    }
   ],
   "source": [
    "lunar_fpr, lunar_tpr, lunar_thresholds = roc_curve(y, lunar_score)\n",
    "roc_auc = auc(lunar_fpr, lunar_tpr)\n",
    "print(roc_auc\n",
    "      )\n",
    "# Plot the ROC curve\n",
    "plt.figure(figsize=(8, 6))\n",
    "plt.plot(lunar_fpr, lunar_tpr, color='darkorange', lw=2, label='ROC curve (area = %0.2f)' % roc_auc)\n",
    "plt.plot([0, 1], [0, 1], color='navy', lw=2, linestyle='--')  # Diagonal line\n",
    "plt.xlim([0.0, 1.0])\n",
    "plt.ylim([0.0, 1.05])\n",
    "plt.xlabel('False Positive Rate')\n",
    "plt.ylabel('True Positive Rate')\n",
    "plt.title('LUNAR ROC')\n",
    "plt.legend(loc='lower right')\n",
    "plt.show()"
   ]
  },
  {
   "cell_type": "code",
   "execution_count": 17,
   "metadata": {},
   "outputs": [
    {
     "data": {
      "text/html": [
       "<div>\n",
       "<style scoped>\n",
       "    .dataframe tbody tr th:only-of-type {\n",
       "        vertical-align: middle;\n",
       "    }\n",
       "\n",
       "    .dataframe tbody tr th {\n",
       "        vertical-align: top;\n",
       "    }\n",
       "\n",
       "    .dataframe thead th {\n",
       "        text-align: right;\n",
       "    }\n",
       "</style>\n",
       "<table border=\"1\" class=\"dataframe\">\n",
       "  <thead>\n",
       "    <tr style=\"text-align: right;\">\n",
       "      <th></th>\n",
       "      <th>lunar_score</th>\n",
       "      <th>ecod_score</th>\n",
       "      <th>y</th>\n",
       "    </tr>\n",
       "  </thead>\n",
       "  <tbody>\n",
       "    <tr>\n",
       "      <th>0</th>\n",
       "      <td>0.130114</td>\n",
       "      <td>675.913676</td>\n",
       "      <td>0</td>\n",
       "    </tr>\n",
       "    <tr>\n",
       "      <th>1</th>\n",
       "      <td>0.286112</td>\n",
       "      <td>768.145453</td>\n",
       "      <td>0</td>\n",
       "    </tr>\n",
       "    <tr>\n",
       "      <th>2</th>\n",
       "      <td>0.124078</td>\n",
       "      <td>727.670565</td>\n",
       "      <td>0</td>\n",
       "    </tr>\n",
       "    <tr>\n",
       "      <th>3</th>\n",
       "      <td>0.303308</td>\n",
       "      <td>731.123759</td>\n",
       "      <td>0</td>\n",
       "    </tr>\n",
       "    <tr>\n",
       "      <th>4</th>\n",
       "      <td>0.103782</td>\n",
       "      <td>693.323313</td>\n",
       "      <td>0</td>\n",
       "    </tr>\n",
       "    <tr>\n",
       "      <th>...</th>\n",
       "      <td>...</td>\n",
       "      <td>...</td>\n",
       "      <td>...</td>\n",
       "    </tr>\n",
       "    <tr>\n",
       "      <th>3681</th>\n",
       "      <td>-0.216687</td>\n",
       "      <td>566.415780</td>\n",
       "      <td>0</td>\n",
       "    </tr>\n",
       "    <tr>\n",
       "      <th>3682</th>\n",
       "      <td>0.163233</td>\n",
       "      <td>672.509020</td>\n",
       "      <td>0</td>\n",
       "    </tr>\n",
       "    <tr>\n",
       "      <th>3683</th>\n",
       "      <td>-0.330942</td>\n",
       "      <td>578.675869</td>\n",
       "      <td>0</td>\n",
       "    </tr>\n",
       "    <tr>\n",
       "      <th>3684</th>\n",
       "      <td>-0.071442</td>\n",
       "      <td>600.065918</td>\n",
       "      <td>0</td>\n",
       "    </tr>\n",
       "    <tr>\n",
       "      <th>3685</th>\n",
       "      <td>-0.596197</td>\n",
       "      <td>694.914433</td>\n",
       "      <td>0</td>\n",
       "    </tr>\n",
       "  </tbody>\n",
       "</table>\n",
       "<p>3686 rows × 3 columns</p>\n",
       "</div>"
      ],
      "text/plain": [
       "      lunar_score  ecod_score  y\n",
       "0        0.130114  675.913676  0\n",
       "1        0.286112  768.145453  0\n",
       "2        0.124078  727.670565  0\n",
       "3        0.303308  731.123759  0\n",
       "4        0.103782  693.323313  0\n",
       "...           ...         ... ..\n",
       "3681    -0.216687  566.415780  0\n",
       "3682     0.163233  672.509020  0\n",
       "3683    -0.330942  578.675869  0\n",
       "3684    -0.071442  600.065918  0\n",
       "3685    -0.596197  694.914433  0\n",
       "\n",
       "[3686 rows x 3 columns]"
      ]
     },
     "execution_count": 17,
     "metadata": {},
     "output_type": "execute_result"
    }
   ],
   "source": [
    "y_array = y.values.ravel()\n",
    "\n",
    "score_df = pd.DataFrame({'lunar_score': lunar_score, 'ecod_score': ecod_score, 'y': y_array})\n",
    "score_df"
   ]
  },
  {
   "cell_type": "code",
   "execution_count": 18,
   "metadata": {},
   "outputs": [],
   "source": [
    "x = score_df[['lunar_score', 'ecod_score']]\n",
    "y = score_df['y']"
   ]
  },
  {
   "cell_type": "code",
   "execution_count": 19,
   "metadata": {},
   "outputs": [
    {
     "data": {
      "text/html": [
       "<style>#sk-container-id-1 {color: black;}#sk-container-id-1 pre{padding: 0;}#sk-container-id-1 div.sk-toggleable {background-color: white;}#sk-container-id-1 label.sk-toggleable__label {cursor: pointer;display: block;width: 100%;margin-bottom: 0;padding: 0.3em;box-sizing: border-box;text-align: center;}#sk-container-id-1 label.sk-toggleable__label-arrow:before {content: \"▸\";float: left;margin-right: 0.25em;color: #696969;}#sk-container-id-1 label.sk-toggleable__label-arrow:hover:before {color: black;}#sk-container-id-1 div.sk-estimator:hover label.sk-toggleable__label-arrow:before {color: black;}#sk-container-id-1 div.sk-toggleable__content {max-height: 0;max-width: 0;overflow: hidden;text-align: left;background-color: #f0f8ff;}#sk-container-id-1 div.sk-toggleable__content pre {margin: 0.2em;color: black;border-radius: 0.25em;background-color: #f0f8ff;}#sk-container-id-1 input.sk-toggleable__control:checked~div.sk-toggleable__content {max-height: 200px;max-width: 100%;overflow: auto;}#sk-container-id-1 input.sk-toggleable__control:checked~label.sk-toggleable__label-arrow:before {content: \"▾\";}#sk-container-id-1 div.sk-estimator input.sk-toggleable__control:checked~label.sk-toggleable__label {background-color: #d4ebff;}#sk-container-id-1 div.sk-label input.sk-toggleable__control:checked~label.sk-toggleable__label {background-color: #d4ebff;}#sk-container-id-1 input.sk-hidden--visually {border: 0;clip: rect(1px 1px 1px 1px);clip: rect(1px, 1px, 1px, 1px);height: 1px;margin: -1px;overflow: hidden;padding: 0;position: absolute;width: 1px;}#sk-container-id-1 div.sk-estimator {font-family: monospace;background-color: #f0f8ff;border: 1px dotted black;border-radius: 0.25em;box-sizing: border-box;margin-bottom: 0.5em;}#sk-container-id-1 div.sk-estimator:hover {background-color: #d4ebff;}#sk-container-id-1 div.sk-parallel-item::after {content: \"\";width: 100%;border-bottom: 1px solid gray;flex-grow: 1;}#sk-container-id-1 div.sk-label:hover label.sk-toggleable__label {background-color: #d4ebff;}#sk-container-id-1 div.sk-serial::before {content: \"\";position: absolute;border-left: 1px solid gray;box-sizing: border-box;top: 0;bottom: 0;left: 50%;z-index: 0;}#sk-container-id-1 div.sk-serial {display: flex;flex-direction: column;align-items: center;background-color: white;padding-right: 0.2em;padding-left: 0.2em;position: relative;}#sk-container-id-1 div.sk-item {position: relative;z-index: 1;}#sk-container-id-1 div.sk-parallel {display: flex;align-items: stretch;justify-content: center;background-color: white;position: relative;}#sk-container-id-1 div.sk-item::before, #sk-container-id-1 div.sk-parallel-item::before {content: \"\";position: absolute;border-left: 1px solid gray;box-sizing: border-box;top: 0;bottom: 0;left: 50%;z-index: -1;}#sk-container-id-1 div.sk-parallel-item {display: flex;flex-direction: column;z-index: 1;position: relative;background-color: white;}#sk-container-id-1 div.sk-parallel-item:first-child::after {align-self: flex-end;width: 50%;}#sk-container-id-1 div.sk-parallel-item:last-child::after {align-self: flex-start;width: 50%;}#sk-container-id-1 div.sk-parallel-item:only-child::after {width: 0;}#sk-container-id-1 div.sk-dashed-wrapped {border: 1px dashed gray;margin: 0 0.4em 0.5em 0.4em;box-sizing: border-box;padding-bottom: 0.4em;background-color: white;}#sk-container-id-1 div.sk-label label {font-family: monospace;font-weight: bold;display: inline-block;line-height: 1.2em;}#sk-container-id-1 div.sk-label-container {text-align: center;}#sk-container-id-1 div.sk-container {/* jupyter's `normalize.less` sets `[hidden] { display: none; }` but bootstrap.min.css set `[hidden] { display: none !important; }` so we also need the `!important` here to be able to override the default hidden behavior on the sphinx rendered scikit-learn.org. See: https://github.com/scikit-learn/scikit-learn/issues/21755 */display: inline-block !important;position: relative;}#sk-container-id-1 div.sk-text-repr-fallback {display: none;}</style><div id=\"sk-container-id-1\" class=\"sk-top-container\"><div class=\"sk-text-repr-fallback\"><pre>LogisticRegression(random_state=0, solver=&#x27;liblinear&#x27;)</pre><b>In a Jupyter environment, please rerun this cell to show the HTML representation or trust the notebook. <br />On GitHub, the HTML representation is unable to render, please try loading this page with nbviewer.org.</b></div><div class=\"sk-container\" hidden><div class=\"sk-item\"><div class=\"sk-estimator sk-toggleable\"><input class=\"sk-toggleable__control sk-hidden--visually\" id=\"sk-estimator-id-1\" type=\"checkbox\" checked><label for=\"sk-estimator-id-1\" class=\"sk-toggleable__label sk-toggleable__label-arrow\">LogisticRegression</label><div class=\"sk-toggleable__content\"><pre>LogisticRegression(random_state=0, solver=&#x27;liblinear&#x27;)</pre></div></div></div></div></div>"
      ],
      "text/plain": [
       "LogisticRegression(random_state=0, solver='liblinear')"
      ]
     },
     "execution_count": 19,
     "metadata": {},
     "output_type": "execute_result"
    }
   ],
   "source": [
    "from sklearn.linear_model import LogisticRegression\n",
    "\n",
    "x_train, x_test, y_train, y_test = train_test_split(x, y, test_size = 0.2, random_state = 0)\n",
    "# instantiate the model\n",
    "logreg = LogisticRegression(solver='liblinear', random_state=0)\n",
    "\n",
    "\n",
    "# fit the model\n",
    "logreg.fit(x_train, y_train)"
   ]
  },
  {
   "cell_type": "code",
   "execution_count": 20,
   "metadata": {},
   "outputs": [
    {
     "data": {
      "text/plain": [
       "array([0, 0, 0, 0, 0, 0, 0, 0, 0, 0, 0, 0, 0, 0, 0, 0, 0, 0, 0, 0, 0, 0,\n",
       "       0, 0, 0, 0, 0, 0, 0, 0, 0, 0, 0, 0, 0, 0, 0, 0, 0, 0, 0, 0, 0, 0,\n",
       "       0, 0, 0, 0, 0, 0, 0, 0, 0, 0, 0, 0, 0, 0, 0, 0, 0, 0, 0, 0, 0, 0,\n",
       "       0, 0, 0, 0, 0, 0, 0, 0, 0, 0, 0, 0, 0, 0, 0, 0, 0, 0, 0, 0, 0, 0,\n",
       "       0, 0, 0, 0, 0, 0, 0, 0, 0, 0, 0, 0, 0, 0, 0, 0, 0, 0, 0, 0, 0, 0,\n",
       "       0, 0, 0, 0, 0, 0, 0, 0, 0, 0, 0, 0, 0, 0, 0, 0, 0, 0, 0, 0, 0, 0,\n",
       "       0, 0, 0, 0, 0, 0, 0, 0, 0, 0, 0, 0, 0, 0, 0, 0, 0, 0, 0, 0, 0, 0,\n",
       "       0, 0, 0, 0, 0, 0, 0, 0, 0, 0, 0, 0, 0, 0, 0, 0, 0, 0, 0, 0, 0, 0,\n",
       "       0, 0, 0, 0, 0, 0, 0, 0, 0, 0, 0, 0, 0, 0, 0, 0, 0, 0, 0, 0, 0, 0,\n",
       "       0, 0, 0, 0, 0, 0, 0, 0, 0, 0, 0, 0, 0, 0, 0, 0, 0, 0, 0, 0, 0, 0,\n",
       "       0, 0, 0, 0, 0, 0, 0, 0, 0, 0, 0, 0, 0, 0, 0, 0, 0, 0, 0, 0, 0, 0,\n",
       "       0, 0, 0, 0, 0, 0, 0, 0, 0, 0, 0, 0, 0, 0, 0, 0, 0, 0, 0, 0, 0, 0,\n",
       "       0, 0, 0, 0, 0, 0, 0, 0, 0, 0, 0, 0, 0, 0, 0, 0, 0, 0, 0, 0, 0, 0,\n",
       "       0, 0, 0, 0, 0, 0, 0, 0, 0, 0, 0, 0, 0, 0, 0, 0, 0, 0, 0, 0, 0, 0,\n",
       "       0, 0, 0, 0, 0, 0, 0, 0, 0, 0, 0, 0, 0, 0, 0, 0, 0, 0, 0, 0, 0, 0,\n",
       "       0, 0, 0, 0, 0, 0, 0, 0, 0, 0, 0, 0, 0, 0, 0, 0, 0, 0, 0, 0, 0, 0,\n",
       "       0, 0, 0, 0, 0, 0, 0, 0, 0, 0, 0, 0, 0, 0, 0, 0, 0, 0, 0, 0, 0, 0,\n",
       "       0, 0, 0, 0, 0, 0, 0, 0, 0, 0, 0, 0, 0, 0, 0, 0, 0, 0, 0, 0, 0, 0,\n",
       "       0, 0, 0, 0, 0, 0, 0, 0, 0, 0, 0, 0, 0, 0, 0, 0, 0, 0, 0, 0, 0, 0,\n",
       "       0, 0, 0, 0, 0, 0, 0, 0, 0, 0, 0, 0, 0, 0, 0, 0, 0, 0, 0, 0, 0, 0,\n",
       "       0, 0, 0, 0, 0, 0, 0, 0, 0, 0, 0, 0, 0, 0, 0, 0, 0, 0, 0, 0, 0, 0,\n",
       "       0, 0, 0, 0, 0, 0, 0, 0, 0, 0, 0, 0, 0, 0, 0, 0, 0, 0, 0, 0, 0, 0,\n",
       "       0, 0, 0, 0, 0, 0, 0, 0, 0, 0, 0, 0, 0, 0, 0, 0, 0, 0, 0, 0, 0, 0,\n",
       "       0, 0, 0, 0, 0, 0, 0, 0, 0, 0, 0, 0, 0, 0, 0, 0, 0, 0, 0, 0, 0, 0,\n",
       "       0, 0, 0, 0, 0, 0, 0, 0, 0, 0, 0, 0, 0, 0, 0, 0, 0, 0, 0, 0, 0, 0,\n",
       "       0, 0, 0, 0, 0, 0, 0, 0, 0, 0, 0, 0, 0, 0, 0, 0, 0, 0, 0, 0, 0, 0,\n",
       "       0, 0, 0, 0, 0, 0, 0, 0, 0, 0, 0, 0, 0, 0, 0, 0, 0, 0, 0, 0, 0, 0,\n",
       "       0, 0, 0, 0, 0, 0, 0, 0, 0, 0, 0, 0, 0, 0, 0, 0, 0, 0, 0, 0, 0, 0,\n",
       "       0, 0, 0, 0, 0, 0, 0, 0, 0, 0, 0, 0, 0, 0, 0, 0, 0, 0, 0, 0, 0, 0,\n",
       "       0, 0, 0, 0, 0, 0, 0, 0, 0, 0, 0, 0, 0, 0, 0, 0, 0, 0, 0, 0, 0, 0,\n",
       "       0, 0, 0, 0, 0, 0, 0, 0, 0, 0, 0, 0, 0, 0, 0, 0, 0, 0, 0, 0, 0, 0,\n",
       "       0, 0, 0, 0, 0, 0, 0, 0, 0, 0, 0, 0, 0, 0, 0, 0, 0, 0, 0, 0, 0, 0,\n",
       "       0, 0, 0, 0, 0, 0, 0, 0, 0, 0, 0, 0, 0, 0, 0, 0, 0, 0, 0, 0, 0, 0,\n",
       "       0, 0, 0, 0, 0, 0, 0, 0, 0, 0, 0, 0], dtype=int64)"
      ]
     },
     "execution_count": 20,
     "metadata": {},
     "output_type": "execute_result"
    }
   ],
   "source": [
    "y_pred_test = logreg.predict(x_test)\n",
    "\n",
    "y_pred_test"
   ]
  },
  {
   "cell_type": "code",
   "execution_count": 21,
   "metadata": {},
   "outputs": [
    {
     "name": "stdout",
     "output_type": "stream",
     "text": [
      "Model accuracy score: 0.9770\n"
     ]
    }
   ],
   "source": [
    "print('Model accuracy score: {0:0.4f}'. format(accuracy_score(y_test, y_pred_test)))"
   ]
  },
  {
   "cell_type": "code",
   "execution_count": 22,
   "metadata": {},
   "outputs": [
    {
     "name": "stdout",
     "output_type": "stream",
     "text": [
      "Training set score: 0.9851\n",
      "Test set score: 0.9770\n"
     ]
    }
   ],
   "source": [
    "print('Training set score: {:.4f}'.format(logreg.score(x_train, y_train)))\n",
    "\n",
    "print('Test set score: {:.4f}'.format(logreg.score(x_test, y_test)))"
   ]
  },
  {
   "cell_type": "code",
   "execution_count": 23,
   "metadata": {},
   "outputs": [
    {
     "name": "stdout",
     "output_type": "stream",
     "text": [
      "Cross-Validation Scores: [0.98238482 0.98371777 0.98371777 0.98371777 0.98371777]\n",
      "Average Cross-Validation Score: 0.9834511845796884\n"
     ]
    }
   ],
   "source": [
    "from sklearn.model_selection import cross_val_score\n",
    "cv_scores = cross_val_score(logreg, x, y, cv=5)\n",
    "print(f'Cross-Validation Scores: {cv_scores}')\n",
    "print(f'Average Cross-Validation Score: {np.mean(cv_scores)}')\n"
   ]
  },
  {
   "cell_type": "code",
   "execution_count": 24,
   "metadata": {},
   "outputs": [
    {
     "name": "stdout",
     "output_type": "stream",
     "text": [
      "0.5289994347088751\n"
     ]
    },
    {
     "data": {
      "image/png": "[encoded data removed]",
      "text/plain": [
       "<Figure size 640x480 with 1 Axes>"
      ]
     },
     "metadata": {},
     "output_type": "display_data"
    }
   ],
   "source": [
    "from sklearn.metrics import roc_curve, auc\n",
    "import matplotlib.pyplot as plt\n",
    "# Get predicted probabilities for the test set\n",
    "y_prob = logreg.predict_proba(x)[:, 1]\n",
    "\n",
    "# Calculate ROC curve and AUC\n",
    "fpr, tpr, thresholds = roc_curve(y, y_prob)\n",
    "roc_auc = auc(fpr, tpr)\n",
    "roc_auc_ecod = auc(ecod_fpr, ecod_tpr)\n",
    "roc_auc_lunar = auc(lunar_fpr, lunar_tpr)\n",
    "# Plot ROC curve\n",
    "print(roc_auc)\n",
    "plt.figure()\n",
    "lw = 2\n",
    "plt.plot(fpr, tpr, color='darkorange',\n",
    "         lw=lw, label='ROC curve (area = %0.2f)' % roc_auc)\n",
    "plt.plot([0, 1], [0, 1], color='navy', lw=lw, linestyle='--')\n",
    "plt.plot(ecod_fpr, ecod_tpr, color='darkred', lw=2, label='ROC curve (area = %0.2f)' % roc_auc_ecod)\n",
    "plt.plot(lunar_fpr, lunar_tpr, color='darkblue', lw=2, label='ROC curve (area = %0.2f)' % roc_auc_lunar)\n",
    "\n",
    "\n",
    "plt.xlim([0.0, 1.0])\n",
    "plt.ylim([0.0, 1.05])\n",
    "plt.xlabel('False Positive Rate')\n",
    "plt.ylabel('True Positive Rate')\n",
    "plt.title('Receiver Operating Characteristic (ROC)')\n",
    "plt.legend(loc=\"lower right\")\n",
    "plt.show()"
   ]
  },
  {
   "cell_type": "code",
   "execution_count": 6,
   "metadata": {},
   "outputs": [
    {
     "name": "stdout",
     "output_type": "stream",
     "text": [
      "0.8880086814975584 0.8871405317417255 0.9864498644986451\n",
      "0.5295968343697004 0.46971170152628605 0.577904352741662\n"
     ]
    }
   ],
   "source": [
    "lunar_accuracies = []\n",
    "ecod_accuracies = []\n",
    "ensemble_accuracies = []\n",
    "lunar_auc = []\n",
    "ecod_auc = []\n",
    "ensemble_auc = []\n",
    "\n",
    "for i in range (10):\n",
    "  lunar = LUNAR()\n",
    "  lunar.fit(df)\n",
    "  lunar_pred = lunar.predict(df)\n",
    "  lunar_scores = lunar.decision_function(df)\n",
    "  lunar_scores1 = lunar.decision_scores_\n",
    "  lunar_acc = accuracy_score(y,lunar_pred)\n",
    "  lunar_auc_scores = roc_auc_score(y, lunar_scores1)\n",
    "  ecod = ECOD()\n",
    "  ecod.fit(df)\n",
    "  ecod_pred = ecod.predict(df)\n",
    "  ecod_scores1 = ecod.decision_function(df)\n",
    "  ecod_scores = ecod.decision_function(df)\n",
    "  ecod_acc = accuracy_score(y,ecod_pred)\n",
    "  ecod_auc_scores = roc_auc_score(y, ecod_scores1)\n",
    "\n",
    "  y_array = y.values.ravel()\n",
    "\n",
    "  score_df = pd.DataFrame({'lunar_score': lunar_scores, 'ecod_score': ecod_scores, 'y': y_array})\n",
    "  score_df\n",
    "\n",
    "  x = score_df[['lunar_score', 'ecod_score']]\n",
    "  y = score_df['y']\n",
    "  \n",
    "  x_train, x_test, y_train, y_test = train_test_split(x, y, test_size = 0.2, random_state = 0)\n",
    "  logreg = LogisticRegression(solver='liblinear', random_state=0)\n",
    "  logreg.fit(x_train, y_train)\n",
    "  y_pred_test = logreg.predict(x_test)\n",
    "  \n",
    "  ensemble_acc = accuracy_score(y_test,y_pred_test)\n",
    "  y_prob = logreg.predict_proba(x)[:, 1]\n",
    "  fpr, tpr, thresholds = roc_curve(y, y_prob)\n",
    "  ensemble_auc_scores = auc(fpr, tpr)\n",
    "  \n",
    "  lunar_accuracies.append(lunar_acc)\n",
    "  ecod_accuracies.append(ecod_acc)\n",
    "  ensemble_accuracies.append(ensemble_acc)\n",
    "  lunar_auc.append(lunar_auc_scores)\n",
    "  ecod_auc.append(ecod_auc_scores)\n",
    "  ensemble_auc.append(ensemble_auc_scores)\n",
    "\n",
    "\n",
    "avg_lunar_acc = np.mean(lunar_accuracies)\n",
    "avg_ecod_acc = np.mean(ecod_accuracies)\n",
    "avg_ensemble_acc = np.mean(ensemble_accuracies)\n",
    "\n",
    "avg_lunar_auc = np.mean(lunar_auc)\n",
    "avg_ecod_auc = np.mean(ecod_auc)\n",
    "avg_ensemble_auc = np.mean(ensemble_auc)\n",
    "\n",
    "\n",
    "print(avg_lunar_acc,avg_ecod_acc,avg_ensemble_acc)\n",
    "\n",
    "print(avg_lunar_auc,avg_ecod_auc,avg_ensemble_auc)\n",
    "\n",
    "  "
   ]
  }
 ],
 "metadata": {
  "kernelspec": {
   "display_name": "base",
   "language": "python",
   "name": "python3"
  },
  "language_info": {
   "codemirror_mode": {
    "name": "ipython",
    "version": 3
   },
   "file_extension": ".py",
   "mimetype": "text/x-python",
   "name": "python",
   "nbconvert_exporter": "python",
   "pygments_lexer": "ipython3",
   "version": "3.11.5"
  }
 },
 "nbformat": 4,
 "nbformat_minor": 2
}
